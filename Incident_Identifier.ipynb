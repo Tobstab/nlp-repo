{
 "cells": [
  {
   "cell_type": "code",
   "execution_count": 5,
   "id": "90075327",
   "metadata": {},
   "outputs": [
    {
     "name": "stderr",
     "output_type": "stream",
     "text": [
      "[nltk_data] Downloading package stopwords to\n",
      "[nltk_data]     C:\\Users\\tobi.akinyemi\\AppData\\Roaming\\nltk_data...\n",
      "[nltk_data]   Unzipping corpora\\stopwords.zip.\n"
     ]
    },
    {
     "data": {
      "text/plain": [
       "True"
      ]
     },
     "execution_count": 5,
     "metadata": {},
     "output_type": "execute_result"
    }
   ],
   "source": [
    "#import all libraries - pandas, for data importation, np for maths, nltk - Natural Language Toolkit, re for regular expressions\n",
    "import pandas as pd\n",
    "import numpy as np\n",
    "import nltk\n",
    "import re\n",
    "import string"
   ]
  },
  {
   "cell_type": "code",
   "execution_count": 3,
   "id": "a3d3d61d",
   "metadata": {},
   "outputs": [],
   "source": [
    "#import incident file\n",
    "file = pd.read_csv('incidents.csv')\n",
    "\n",
    "#reason codes are labels for data, whilst descriptions are the inputs\n",
    "labelList = list(file['reason_code'])\n",
    "\n",
    "descList = list(file['short_description'])\n"
   ]
  },
  {
   "cell_type": "code",
   "execution_count": 4,
   "id": "fdec9dee",
   "metadata": {},
   "outputs": [
    {
     "name": "stdout",
     "output_type": "stream",
     "text": [
      "['Password', 'Password', 'SuccessFactors', 'Hardware', 'Hardware']\n",
      "['Password reset for Peter.Darby@jdecoffee.com', 'Password reset for TimothyPhillip.Jeffries@JDEcoffee.com', 'Error in SuccessFactors for new starter onboarding', 'Unable to set up Evoko', 'Evoko, not letting me book a meeting']\n"
     ]
    }
   ],
   "source": [
    "print(labelList[0:5])\n",
    "print(descList[0:5])"
   ]
  },
  {
   "cell_type": "code",
   "execution_count": 5,
   "id": "6e23e95f",
   "metadata": {},
   "outputs": [
    {
     "data": {
      "text/html": [
       "<div>\n",
       "<style scoped>\n",
       "    .dataframe tbody tr th:only-of-type {\n",
       "        vertical-align: middle;\n",
       "    }\n",
       "\n",
       "    .dataframe tbody tr th {\n",
       "        vertical-align: top;\n",
       "    }\n",
       "\n",
       "    .dataframe thead th {\n",
       "        text-align: right;\n",
       "    }\n",
       "</style>\n",
       "<table border=\"1\" class=\"dataframe\">\n",
       "  <thead>\n",
       "    <tr style=\"text-align: right;\">\n",
       "      <th></th>\n",
       "      <th>label</th>\n",
       "      <th>desc_text</th>\n",
       "    </tr>\n",
       "  </thead>\n",
       "  <tbody>\n",
       "    <tr>\n",
       "      <th>0</th>\n",
       "      <td>Password</td>\n",
       "      <td>Password reset for Peter.Darby@jdecoffee.com</td>\n",
       "    </tr>\n",
       "    <tr>\n",
       "      <th>1</th>\n",
       "      <td>Password</td>\n",
       "      <td>Password reset for TimothyPhillip.Jeffries@JDE...</td>\n",
       "    </tr>\n",
       "    <tr>\n",
       "      <th>2</th>\n",
       "      <td>SuccessFactors</td>\n",
       "      <td>Error in SuccessFactors for new starter onboar...</td>\n",
       "    </tr>\n",
       "    <tr>\n",
       "      <th>3</th>\n",
       "      <td>Hardware</td>\n",
       "      <td>Unable to set up Evoko</td>\n",
       "    </tr>\n",
       "    <tr>\n",
       "      <th>4</th>\n",
       "      <td>Hardware</td>\n",
       "      <td>Evoko, not letting me book a meeting</td>\n",
       "    </tr>\n",
       "  </tbody>\n",
       "</table>\n",
       "</div>"
      ],
      "text/plain": [
       "            label                                          desc_text\n",
       "0        Password       Password reset for Peter.Darby@jdecoffee.com\n",
       "1        Password  Password reset for TimothyPhillip.Jeffries@JDE...\n",
       "2  SuccessFactors  Error in SuccessFactors for new starter onboar...\n",
       "3        Hardware                             Unable to set up Evoko\n",
       "4        Hardware               Evoko, not letting me book a meeting"
      ]
     },
     "execution_count": 5,
     "metadata": {},
     "output_type": "execute_result"
    }
   ],
   "source": [
    "fullCorpus = pd.DataFrame({\n",
    "    'label' : labelList,\n",
    "    'desc_text' : descList\n",
    "})\n",
    "\n",
    "fullCorpus.head()"
   ]
  },
  {
   "cell_type": "code",
   "execution_count": 6,
   "id": "8848f6fa",
   "metadata": {},
   "outputs": [
    {
     "name": "stderr",
     "output_type": "stream",
     "text": [
      "No handles with labels found to put in legend.\n"
     ]
    },
    {
     "name": "stdout",
     "output_type": "stream",
     "text": [
      "Input has 757 rows and 2 columns\n",
      "There are 30 labels [{'Security', 1}, {'Outlook', 26}, {'SuccessFactors', 6}, {24, 'Network'}, {82, 'Password'}, {'Mobile', 12}, {'IT', 7}, {'VPN', 23}, {9, 'AD'}, {'O365', 17}, {'Bitlocker', 69}, {'SalesForce', 13}, {64, 'Phishing'}, {'Printer', 25}, {'CAP', 7}, {2, 'Intune'}, {8, 'Junk'}, {24, 'Xtel'}, {24, 'Intranet'}, {'SAP', 63}, {9, 'Pheonix'}, {'TAS', 9}, {'Software', 44}, {'BI', 5}, {'Sharepoint', 23}, {'Drives', 58}, {'Hardware', 54}, {35, 'Teams'}, {9, 'MFA'}, {'Concur', 5}]\n",
      "[1, 26, 6, 24, 82, 12, 7, 23, 9, 17, 69, 13, 64, 25, 7, 2, 8, 24, 24, 63, 9, 9, 44, 5, 23, 58, 54, 35, 9, 5]\n"
     ]
    },
    {
     "data": {
      "image/png": "[encoded data removed]",
      "text/plain": [
       "<Figure size 432x288 with 1 Axes>"
      ]
     },
     "metadata": {
      "needs_background": "light"
     },
     "output_type": "display_data"
    }
   ],
   "source": [
    "from matplotlib import pyplot\n",
    "#Shape of the dataset\n",
    "print(\"Input has {} rows and {} columns\". format(len(fullCorpus), len(fullCorpus.columns)))\n",
    "\n",
    "#number of labels in dataset and their distribution\n",
    "labels = list({i for i in labelList})\n",
    "print(\"There are {} labels\".format(len(labels)),[{i, labelList.count(i)} for i in labels])\n",
    "print([labelList.count(i) for i in labels])\n",
    "labeldata = pd.DataFrame({\n",
    "    'label': labels,\n",
    "    'amount': [labelList.count(i) for i in labels]\n",
    "})\n",
    "labeldata.head()\n",
    "bins = np.linspace(0,50)\n",
    "\n",
    "pyplot.bar(labels, labeldata[\"amount\"])\n",
    "\n",
    "pyplot.rcParams[\"figure.figsize\"]=40,40\n",
    "pyplot.legend(loc=\"upper left\")\n",
    "\n",
    "pyplot.show()\n"
   ]
  },
  {
   "cell_type": "code",
   "execution_count": 7,
   "id": "264c95ac",
   "metadata": {},
   "outputs": [
    {
     "data": {
      "text/html": [
       "<div>\n",
       "<style scoped>\n",
       "    .dataframe tbody tr th:only-of-type {\n",
       "        vertical-align: middle;\n",
       "    }\n",
       "\n",
       "    .dataframe tbody tr th {\n",
       "        vertical-align: top;\n",
       "    }\n",
       "\n",
       "    .dataframe thead th {\n",
       "        text-align: right;\n",
       "    }\n",
       "</style>\n",
       "<table border=\"1\" class=\"dataframe\">\n",
       "  <thead>\n",
       "    <tr style=\"text-align: right;\">\n",
       "      <th></th>\n",
       "      <th>label</th>\n",
       "      <th>desc_text</th>\n",
       "      <th>desc_text_tokenized</th>\n",
       "    </tr>\n",
       "  </thead>\n",
       "  <tbody>\n",
       "    <tr>\n",
       "      <th>0</th>\n",
       "      <td>Password</td>\n",
       "      <td>Password reset for Peter.Darby@jdecoffee.com</td>\n",
       "      <td>[password, reset, for, peter, darby, jdecoffee...</td>\n",
       "    </tr>\n",
       "    <tr>\n",
       "      <th>1</th>\n",
       "      <td>Password</td>\n",
       "      <td>Password reset for TimothyPhillip.Jeffries@JDE...</td>\n",
       "      <td>[password, reset, for, timothyphillip, jeffrie...</td>\n",
       "    </tr>\n",
       "    <tr>\n",
       "      <th>2</th>\n",
       "      <td>SuccessFactors</td>\n",
       "      <td>Error in SuccessFactors for new starter onboar...</td>\n",
       "      <td>[error, in, successfactors, for, new, starter,...</td>\n",
       "    </tr>\n",
       "    <tr>\n",
       "      <th>3</th>\n",
       "      <td>Hardware</td>\n",
       "      <td>Unable to set up Evoko</td>\n",
       "      <td>[unable, to, set, up, evoko]</td>\n",
       "    </tr>\n",
       "    <tr>\n",
       "      <th>4</th>\n",
       "      <td>Hardware</td>\n",
       "      <td>Evoko, not letting me book a meeting</td>\n",
       "      <td>[evoko, not, letting, me, book, a, meeting]</td>\n",
       "    </tr>\n",
       "  </tbody>\n",
       "</table>\n",
       "</div>"
      ],
      "text/plain": [
       "            label                                          desc_text  \\\n",
       "0        Password       Password reset for Peter.Darby@jdecoffee.com   \n",
       "1        Password  Password reset for TimothyPhillip.Jeffries@JDE...   \n",
       "2  SuccessFactors  Error in SuccessFactors for new starter onboar...   \n",
       "3        Hardware                             Unable to set up Evoko   \n",
       "4        Hardware               Evoko, not letting me book a meeting   \n",
       "\n",
       "                                 desc_text_tokenized  \n",
       "0  [password, reset, for, peter, darby, jdecoffee...  \n",
       "1  [password, reset, for, timothyphillip, jeffrie...  \n",
       "2  [error, in, successfactors, for, new, starter,...  \n",
       "3                       [unable, to, set, up, evoko]  \n",
       "4        [evoko, not, letting, me, book, a, meeting]  "
      ]
     },
     "execution_count": 7,
     "metadata": {},
     "output_type": "execute_result"
    }
   ],
   "source": [
    "# Tokenization of the words\n",
    "\n",
    "def tokenize(text):\n",
    "    tokens = re.split('\\W+', text)\n",
    "    return tokens\n",
    "\n",
    "fullCorpus[\"desc_text_tokenized\"] = fullCorpus[\"desc_text\"].apply(lambda x: tokenize(x.lower()))\n",
    "fullCorpus.head()"
   ]
  },
  {
   "cell_type": "code",
   "execution_count": 349,
   "id": "033529c9",
   "metadata": {},
   "outputs": [
    {
     "data": {
      "text/html": [
       "<div>\n",
       "<style scoped>\n",
       "    .dataframe tbody tr th:only-of-type {\n",
       "        vertical-align: middle;\n",
       "    }\n",
       "\n",
       "    .dataframe tbody tr th {\n",
       "        vertical-align: top;\n",
       "    }\n",
       "\n",
       "    .dataframe thead th {\n",
       "        text-align: right;\n",
       "    }\n",
       "</style>\n",
       "<table border=\"1\" class=\"dataframe\">\n",
       "  <thead>\n",
       "    <tr style=\"text-align: right;\">\n",
       "      <th></th>\n",
       "      <th>label</th>\n",
       "      <th>desc_text</th>\n",
       "      <th>desc_text_tokenized</th>\n",
       "      <th>processed_desc_text</th>\n",
       "    </tr>\n",
       "  </thead>\n",
       "  <tbody>\n",
       "    <tr>\n",
       "      <th>0</th>\n",
       "      <td>Password</td>\n",
       "      <td>Password reset for Peter.Darby@jdecoffee.com</td>\n",
       "      <td>[password, reset, for, peter, darby, jdecoffee...</td>\n",
       "      <td>[password, reset, peter, darby, jdecoffee, com]</td>\n",
       "    </tr>\n",
       "    <tr>\n",
       "      <th>1</th>\n",
       "      <td>Password</td>\n",
       "      <td>Password reset for TimothyPhillip.Jeffries@JDE...</td>\n",
       "      <td>[password, reset, for, timothyphillip, jeffrie...</td>\n",
       "      <td>[password, reset, timothyphillip, jeffries, jd...</td>\n",
       "    </tr>\n",
       "    <tr>\n",
       "      <th>2</th>\n",
       "      <td>SuccessFactors</td>\n",
       "      <td>Error in SuccessFactors for new starter onboar...</td>\n",
       "      <td>[error, in, successfactors, for, new, starter,...</td>\n",
       "      <td>[error, successfactors, new, starter, onboarding]</td>\n",
       "    </tr>\n",
       "    <tr>\n",
       "      <th>3</th>\n",
       "      <td>Hardware</td>\n",
       "      <td>Unable to set up Evoko</td>\n",
       "      <td>[unable, to, set, up, evoko]</td>\n",
       "      <td>[unable, set, evoko]</td>\n",
       "    </tr>\n",
       "    <tr>\n",
       "      <th>4</th>\n",
       "      <td>Hardware</td>\n",
       "      <td>Evoko, not letting me book a meeting</td>\n",
       "      <td>[evoko, not, letting, me, book, a, meeting]</td>\n",
       "      <td>[evoko, letting, book, meeting]</td>\n",
       "    </tr>\n",
       "  </tbody>\n",
       "</table>\n",
       "</div>"
      ],
      "text/plain": [
       "            label                                          desc_text  \\\n",
       "0        Password       Password reset for Peter.Darby@jdecoffee.com   \n",
       "1        Password  Password reset for TimothyPhillip.Jeffries@JDE...   \n",
       "2  SuccessFactors  Error in SuccessFactors for new starter onboar...   \n",
       "3        Hardware                             Unable to set up Evoko   \n",
       "4        Hardware               Evoko, not letting me book a meeting   \n",
       "\n",
       "                                 desc_text_tokenized  \\\n",
       "0  [password, reset, for, peter, darby, jdecoffee...   \n",
       "1  [password, reset, for, timothyphillip, jeffrie...   \n",
       "2  [error, in, successfactors, for, new, starter,...   \n",
       "3                       [unable, to, set, up, evoko]   \n",
       "4        [evoko, not, letting, me, book, a, meeting]   \n",
       "\n",
       "                                 processed_desc_text  \n",
       "0    [password, reset, peter, darby, jdecoffee, com]  \n",
       "1  [password, reset, timothyphillip, jeffries, jd...  \n",
       "2  [error, successfactors, new, starter, onboarding]  \n",
       "3                               [unable, set, evoko]  \n",
       "4                    [evoko, letting, book, meeting]  "
      ]
     },
     "execution_count": 349,
     "metadata": {},
     "output_type": "execute_result"
    }
   ],
   "source": [
    "#remove stopwords\n",
    "from nltk.corpus import stopwords\n",
    "stop_words = stopwords.words(\"english\")\n",
    "def remove_stop(tokened_text):\n",
    "    cleaned_text = [i for i in tokened_text if i not in stop_words]\n",
    "    return cleaned_text\n",
    "\n",
    "fullCorpus[\"processed_desc_text\"] = fullCorpus[\"desc_text_tokenized\"].apply(lambda x: remove_stop(x))\n",
    "fullCorpus.head()"
   ]
  },
  {
   "cell_type": "code",
   "execution_count": 4,
   "id": "6265911e",
   "metadata": {},
   "outputs": [
    {
     "ename": "LookupError",
     "evalue": "\n**********************************************************************\n  Resource \u001b[93mstopwords\u001b[0m not found.\n  Please use the NLTK Downloader to obtain the resource:\n\n  \u001b[31m>>> import nltk\n  >>> nltk.download('stopwords')\n  \u001b[0m\n  For more information see: https://www.nltk.org/data.html\n\n  Attempted to load \u001b[93mcorpora/stopwords\u001b[0m\n\n  Searched in:\n    - 'C:\\\\Users\\\\tobi.akinyemi/nltk_data'\n    - 'C:\\\\Users\\\\tobi.akinyemi\\\\Anaconda3\\\\nltk_data'\n    - 'C:\\\\Users\\\\tobi.akinyemi\\\\Anaconda3\\\\share\\\\nltk_data'\n    - 'C:\\\\Users\\\\tobi.akinyemi\\\\Anaconda3\\\\lib\\\\nltk_data'\n    - 'C:\\\\Users\\\\tobi.akinyemi\\\\AppData\\\\Roaming\\\\nltk_data'\n    - 'C:\\\\nltk_data'\n    - 'D:\\\\nltk_data'\n    - 'E:\\\\nltk_data'\n**********************************************************************\n",
     "output_type": "error",
     "traceback": [
      "\u001b[1;31m---------------------------------------------------------------------------\u001b[0m",
      "\u001b[1;31mLookupError\u001b[0m                               Traceback (most recent call last)",
      "File \u001b[1;32m~\\Anaconda3\\lib\\site-packages\\nltk\\corpus\\util.py:84\u001b[0m, in \u001b[0;36mLazyCorpusLoader.__load\u001b[1;34m(self)\u001b[0m\n\u001b[0;32m     83\u001b[0m \u001b[38;5;28;01mtry\u001b[39;00m:\n\u001b[1;32m---> 84\u001b[0m     root \u001b[38;5;241m=\u001b[39m \u001b[43mnltk\u001b[49m\u001b[38;5;241;43m.\u001b[39;49m\u001b[43mdata\u001b[49m\u001b[38;5;241;43m.\u001b[39;49m\u001b[43mfind\u001b[49m\u001b[43m(\u001b[49m\u001b[38;5;124;43mf\u001b[39;49m\u001b[38;5;124;43m\"\u001b[39;49m\u001b[38;5;132;43;01m{\u001b[39;49;00m\u001b[38;5;28;43mself\u001b[39;49m\u001b[38;5;241;43m.\u001b[39;49m\u001b[43msubdir\u001b[49m\u001b[38;5;132;43;01m}\u001b[39;49;00m\u001b[38;5;124;43m/\u001b[39;49m\u001b[38;5;132;43;01m{\u001b[39;49;00m\u001b[43mzip_name\u001b[49m\u001b[38;5;132;43;01m}\u001b[39;49;00m\u001b[38;5;124;43m\"\u001b[39;49m\u001b[43m)\u001b[49m\n\u001b[0;32m     85\u001b[0m \u001b[38;5;28;01mexcept\u001b[39;00m \u001b[38;5;167;01mLookupError\u001b[39;00m:\n",
      "File \u001b[1;32m~\\Anaconda3\\lib\\site-packages\\nltk\\data.py:583\u001b[0m, in \u001b[0;36mfind\u001b[1;34m(resource_name, paths)\u001b[0m\n\u001b[0;32m    582\u001b[0m resource_not_found \u001b[38;5;241m=\u001b[39m \u001b[38;5;124mf\u001b[39m\u001b[38;5;124m\"\u001b[39m\u001b[38;5;130;01m\\n\u001b[39;00m\u001b[38;5;132;01m{\u001b[39;00msep\u001b[38;5;132;01m}\u001b[39;00m\u001b[38;5;130;01m\\n\u001b[39;00m\u001b[38;5;132;01m{\u001b[39;00mmsg\u001b[38;5;132;01m}\u001b[39;00m\u001b[38;5;130;01m\\n\u001b[39;00m\u001b[38;5;132;01m{\u001b[39;00msep\u001b[38;5;132;01m}\u001b[39;00m\u001b[38;5;130;01m\\n\u001b[39;00m\u001b[38;5;124m\"\u001b[39m\n\u001b[1;32m--> 583\u001b[0m \u001b[38;5;28;01mraise\u001b[39;00m \u001b[38;5;167;01mLookupError\u001b[39;00m(resource_not_found)\n",
      "\u001b[1;31mLookupError\u001b[0m: \n**********************************************************************\n  Resource \u001b[93mstopwords\u001b[0m not found.\n  Please use the NLTK Downloader to obtain the resource:\n\n  \u001b[31m>>> import nltk\n  >>> nltk.download('stopwords')\n  \u001b[0m\n  For more information see: https://www.nltk.org/data.html\n\n  Attempted to load \u001b[93mcorpora/stopwords.zip/stopwords/\u001b[0m\n\n  Searched in:\n    - 'C:\\\\Users\\\\tobi.akinyemi/nltk_data'\n    - 'C:\\\\Users\\\\tobi.akinyemi\\\\Anaconda3\\\\nltk_data'\n    - 'C:\\\\Users\\\\tobi.akinyemi\\\\Anaconda3\\\\share\\\\nltk_data'\n    - 'C:\\\\Users\\\\tobi.akinyemi\\\\Anaconda3\\\\lib\\\\nltk_data'\n    - 'C:\\\\Users\\\\tobi.akinyemi\\\\AppData\\\\Roaming\\\\nltk_data'\n    - 'C:\\\\nltk_data'\n    - 'D:\\\\nltk_data'\n    - 'E:\\\\nltk_data'\n**********************************************************************\n",
      "\nDuring handling of the above exception, another exception occurred:\n",
      "\u001b[1;31mLookupError\u001b[0m                               Traceback (most recent call last)",
      "Input \u001b[1;32mIn [4]\u001b[0m, in \u001b[0;36m<cell line: 4>\u001b[1;34m()\u001b[0m\n\u001b[0;32m      1\u001b[0m \u001b[38;5;66;03m#Preprocessing\u001b[39;00m\n\u001b[0;32m      3\u001b[0m \u001b[38;5;28;01mfrom\u001b[39;00m \u001b[38;5;21;01mnltk\u001b[39;00m\u001b[38;5;21;01m.\u001b[39;00m\u001b[38;5;21;01mcorpus\u001b[39;00m \u001b[38;5;28;01mimport\u001b[39;00m stopwords\n\u001b[1;32m----> 4\u001b[0m stop_words \u001b[38;5;241m=\u001b[39m \u001b[43mstopwords\u001b[49m\u001b[38;5;241;43m.\u001b[39;49m\u001b[43mwords\u001b[49m(\u001b[38;5;124m\"\u001b[39m\u001b[38;5;124menglish\u001b[39m\u001b[38;5;124m\"\u001b[39m)\n\u001b[0;32m      5\u001b[0m ps \u001b[38;5;241m=\u001b[39m nltk\u001b[38;5;241m.\u001b[39mPorterStemmer()\n\u001b[0;32m      6\u001b[0m wn \u001b[38;5;241m=\u001b[39m nltk\u001b[38;5;241m.\u001b[39mWordNetLemmatizer()\n",
      "File \u001b[1;32m~\\Anaconda3\\lib\\site-packages\\nltk\\corpus\\util.py:121\u001b[0m, in \u001b[0;36mLazyCorpusLoader.__getattr__\u001b[1;34m(self, attr)\u001b[0m\n\u001b[0;32m    118\u001b[0m \u001b[38;5;28;01mif\u001b[39;00m attr \u001b[38;5;241m==\u001b[39m \u001b[38;5;124m\"\u001b[39m\u001b[38;5;124m__bases__\u001b[39m\u001b[38;5;124m\"\u001b[39m:\n\u001b[0;32m    119\u001b[0m     \u001b[38;5;28;01mraise\u001b[39;00m \u001b[38;5;167;01mAttributeError\u001b[39;00m(\u001b[38;5;124m\"\u001b[39m\u001b[38;5;124mLazyCorpusLoader object has no attribute \u001b[39m\u001b[38;5;124m'\u001b[39m\u001b[38;5;124m__bases__\u001b[39m\u001b[38;5;124m'\u001b[39m\u001b[38;5;124m\"\u001b[39m)\n\u001b[1;32m--> 121\u001b[0m \u001b[38;5;28;43mself\u001b[39;49m\u001b[38;5;241;43m.\u001b[39;49m\u001b[43m__load\u001b[49m\u001b[43m(\u001b[49m\u001b[43m)\u001b[49m\n\u001b[0;32m    122\u001b[0m \u001b[38;5;66;03m# This looks circular, but its not, since __load() changes our\u001b[39;00m\n\u001b[0;32m    123\u001b[0m \u001b[38;5;66;03m# __class__ to something new:\u001b[39;00m\n\u001b[0;32m    124\u001b[0m \u001b[38;5;28;01mreturn\u001b[39;00m \u001b[38;5;28mgetattr\u001b[39m(\u001b[38;5;28mself\u001b[39m, attr)\n",
      "File \u001b[1;32m~\\Anaconda3\\lib\\site-packages\\nltk\\corpus\\util.py:86\u001b[0m, in \u001b[0;36mLazyCorpusLoader.__load\u001b[1;34m(self)\u001b[0m\n\u001b[0;32m     84\u001b[0m             root \u001b[38;5;241m=\u001b[39m nltk\u001b[38;5;241m.\u001b[39mdata\u001b[38;5;241m.\u001b[39mfind(\u001b[38;5;124mf\u001b[39m\u001b[38;5;124m\"\u001b[39m\u001b[38;5;132;01m{\u001b[39;00m\u001b[38;5;28mself\u001b[39m\u001b[38;5;241m.\u001b[39msubdir\u001b[38;5;132;01m}\u001b[39;00m\u001b[38;5;124m/\u001b[39m\u001b[38;5;132;01m{\u001b[39;00mzip_name\u001b[38;5;132;01m}\u001b[39;00m\u001b[38;5;124m\"\u001b[39m)\n\u001b[0;32m     85\u001b[0m         \u001b[38;5;28;01mexcept\u001b[39;00m \u001b[38;5;167;01mLookupError\u001b[39;00m:\n\u001b[1;32m---> 86\u001b[0m             \u001b[38;5;28;01mraise\u001b[39;00m e\n\u001b[0;32m     88\u001b[0m \u001b[38;5;66;03m# Load the corpus.\u001b[39;00m\n\u001b[0;32m     89\u001b[0m corpus \u001b[38;5;241m=\u001b[39m \u001b[38;5;28mself\u001b[39m\u001b[38;5;241m.\u001b[39m__reader_cls(root, \u001b[38;5;241m*\u001b[39m\u001b[38;5;28mself\u001b[39m\u001b[38;5;241m.\u001b[39m__args, \u001b[38;5;241m*\u001b[39m\u001b[38;5;241m*\u001b[39m\u001b[38;5;28mself\u001b[39m\u001b[38;5;241m.\u001b[39m__kwargs)\n",
      "File \u001b[1;32m~\\Anaconda3\\lib\\site-packages\\nltk\\corpus\\util.py:81\u001b[0m, in \u001b[0;36mLazyCorpusLoader.__load\u001b[1;34m(self)\u001b[0m\n\u001b[0;32m     79\u001b[0m \u001b[38;5;28;01melse\u001b[39;00m:\n\u001b[0;32m     80\u001b[0m     \u001b[38;5;28;01mtry\u001b[39;00m:\n\u001b[1;32m---> 81\u001b[0m         root \u001b[38;5;241m=\u001b[39m \u001b[43mnltk\u001b[49m\u001b[38;5;241;43m.\u001b[39;49m\u001b[43mdata\u001b[49m\u001b[38;5;241;43m.\u001b[39;49m\u001b[43mfind\u001b[49m\u001b[43m(\u001b[49m\u001b[38;5;124;43mf\u001b[39;49m\u001b[38;5;124;43m\"\u001b[39;49m\u001b[38;5;132;43;01m{\u001b[39;49;00m\u001b[38;5;28;43mself\u001b[39;49m\u001b[38;5;241;43m.\u001b[39;49m\u001b[43msubdir\u001b[49m\u001b[38;5;132;43;01m}\u001b[39;49;00m\u001b[38;5;124;43m/\u001b[39;49m\u001b[38;5;132;43;01m{\u001b[39;49;00m\u001b[38;5;28;43mself\u001b[39;49m\u001b[38;5;241;43m.\u001b[39;49m\u001b[43m__name\u001b[49m\u001b[38;5;132;43;01m}\u001b[39;49;00m\u001b[38;5;124;43m\"\u001b[39;49m\u001b[43m)\u001b[49m\n\u001b[0;32m     82\u001b[0m     \u001b[38;5;28;01mexcept\u001b[39;00m \u001b[38;5;167;01mLookupError\u001b[39;00m \u001b[38;5;28;01mas\u001b[39;00m e:\n\u001b[0;32m     83\u001b[0m         \u001b[38;5;28;01mtry\u001b[39;00m:\n",
      "File \u001b[1;32m~\\Anaconda3\\lib\\site-packages\\nltk\\data.py:583\u001b[0m, in \u001b[0;36mfind\u001b[1;34m(resource_name, paths)\u001b[0m\n\u001b[0;32m    581\u001b[0m sep \u001b[38;5;241m=\u001b[39m \u001b[38;5;124m\"\u001b[39m\u001b[38;5;124m*\u001b[39m\u001b[38;5;124m\"\u001b[39m \u001b[38;5;241m*\u001b[39m \u001b[38;5;241m70\u001b[39m\n\u001b[0;32m    582\u001b[0m resource_not_found \u001b[38;5;241m=\u001b[39m \u001b[38;5;124mf\u001b[39m\u001b[38;5;124m\"\u001b[39m\u001b[38;5;130;01m\\n\u001b[39;00m\u001b[38;5;132;01m{\u001b[39;00msep\u001b[38;5;132;01m}\u001b[39;00m\u001b[38;5;130;01m\\n\u001b[39;00m\u001b[38;5;132;01m{\u001b[39;00mmsg\u001b[38;5;132;01m}\u001b[39;00m\u001b[38;5;130;01m\\n\u001b[39;00m\u001b[38;5;132;01m{\u001b[39;00msep\u001b[38;5;132;01m}\u001b[39;00m\u001b[38;5;130;01m\\n\u001b[39;00m\u001b[38;5;124m\"\u001b[39m\n\u001b[1;32m--> 583\u001b[0m \u001b[38;5;28;01mraise\u001b[39;00m \u001b[38;5;167;01mLookupError\u001b[39;00m(resource_not_found)\n",
      "\u001b[1;31mLookupError\u001b[0m: \n**********************************************************************\n  Resource \u001b[93mstopwords\u001b[0m not found.\n  Please use the NLTK Downloader to obtain the resource:\n\n  \u001b[31m>>> import nltk\n  >>> nltk.download('stopwords')\n  \u001b[0m\n  For more information see: https://www.nltk.org/data.html\n\n  Attempted to load \u001b[93mcorpora/stopwords\u001b[0m\n\n  Searched in:\n    - 'C:\\\\Users\\\\tobi.akinyemi/nltk_data'\n    - 'C:\\\\Users\\\\tobi.akinyemi\\\\Anaconda3\\\\nltk_data'\n    - 'C:\\\\Users\\\\tobi.akinyemi\\\\Anaconda3\\\\share\\\\nltk_data'\n    - 'C:\\\\Users\\\\tobi.akinyemi\\\\Anaconda3\\\\lib\\\\nltk_data'\n    - 'C:\\\\Users\\\\tobi.akinyemi\\\\AppData\\\\Roaming\\\\nltk_data'\n    - 'C:\\\\nltk_data'\n    - 'D:\\\\nltk_data'\n    - 'E:\\\\nltk_data'\n**********************************************************************\n"
     ]
    }
   ],
   "source": [
    "#Preprocessing\n",
    "\n",
    "from nltk.corpus import stopwords\n",
    "stop_words = stopwords.words(\"english\")\n",
    "ps = nltk.PorterStemmer()\n",
    "wn = nltk.WordNetLemmatizer()\n",
    "\n",
    "def clean_stem_text(text):\n",
    "    #remove punctuation \n",
    "    text = \"\".join([char for char in text if char not in string.punctuation])\n",
    "    # Tokenization of the words\n",
    "    tokens = re.split('\\W+', text)\n",
    "    #remove stopwords\n",
    "    cleaned_text = [i for i in tokens if i not in stop_words]\n",
    "    #stem the words\n",
    "    #stemmed_text = [ps.stem(word) for word in cleaned_text]\n",
    "    #lemmitize the words\n",
    "    lemmitized_text = [word for word in cleaned_text]\n",
    "    return lemmitized_text\n",
    "fullCorpus[\"clean_lam_text\"] = fullCorpus[\"desc_text\"].apply(lambda x: clean_stem_text(x.lower()))\n",
    "fullCorpus.head()\n"
   ]
  },
  {
   "cell_type": "code",
   "execution_count": 351,
   "id": "7d013754",
   "metadata": {},
   "outputs": [
    {
     "data": {
      "image/png": "[encoded data removed]",
      "text/plain": [
       "<Figure size 432x288 with 1 Axes>"
      ]
     },
     "metadata": {
      "needs_background": "light"
     },
     "output_type": "display_data"
    }
   ],
   "source": [
    "#feature creation and evaluation\n",
    "from matplotlib import pyplot\n",
    "%matplotlib inline\n",
    "#create new features\n",
    "def count_punc(x):\n",
    "    punct_count = sum([1 for i in x if i in string.punctuation])\n",
    "    return round(3/(len(x) - x.count(\" \")),3)*100\n",
    "#length of each type of issue\n",
    "fullCorpus[\"text_length\"] = fullCorpus[\"desc_text\"].apply(lambda x: len(x) - x.count(\" \"))\n",
    "#amount of punctuation in each type of issue\n",
    "fullCorpus[\"punct_count\"] = fullCorpus[\"desc_text\"].apply(lambda x: count_punc(x))\n",
    "fullCorpus.head()\n",
    "\n",
    "#feature evaluation\n",
    "bins = np.linspace(0,200,10)\n",
    "for i in labels:\n",
    "    pyplot.hist(fullCorpus[fullCorpus[\"label\"]==i][\"text_length\"], bins, alpha=0.5, density=True, stacked=True, label=i)\n",
    "\n",
    "pyplot.rcParams[\"figure.figsize\"]=40,40\n",
    "pyplot.legend(loc=\"upper left\")\n",
    "\n",
    "pyplot.show()"
   ]
  },
  {
   "cell_type": "code",
   "execution_count": 8,
   "id": "78c5f9d0",
   "metadata": {},
   "outputs": [
    {
     "ename": "KeyError",
     "evalue": "'punct_count'",
     "output_type": "error",
     "traceback": [
      "\u001b[1;31m---------------------------------------------------------------------------\u001b[0m",
      "\u001b[1;31mKeyError\u001b[0m                                  Traceback (most recent call last)",
      "\u001b[1;32m~\\Anaconda3\\lib\\site-packages\\pandas\\core\\indexes\\base.py\u001b[0m in \u001b[0;36mget_loc\u001b[1;34m(self, key, method, tolerance)\u001b[0m\n\u001b[0;32m   3079\u001b[0m             \u001b[1;32mtry\u001b[0m\u001b[1;33m:\u001b[0m\u001b[1;33m\u001b[0m\u001b[1;33m\u001b[0m\u001b[0m\n\u001b[1;32m-> 3080\u001b[1;33m                 \u001b[1;32mreturn\u001b[0m \u001b[0mself\u001b[0m\u001b[1;33m.\u001b[0m\u001b[0m_engine\u001b[0m\u001b[1;33m.\u001b[0m\u001b[0mget_loc\u001b[0m\u001b[1;33m(\u001b[0m\u001b[0mcasted_key\u001b[0m\u001b[1;33m)\u001b[0m\u001b[1;33m\u001b[0m\u001b[1;33m\u001b[0m\u001b[0m\n\u001b[0m\u001b[0;32m   3081\u001b[0m             \u001b[1;32mexcept\u001b[0m \u001b[0mKeyError\u001b[0m \u001b[1;32mas\u001b[0m \u001b[0merr\u001b[0m\u001b[1;33m:\u001b[0m\u001b[1;33m\u001b[0m\u001b[1;33m\u001b[0m\u001b[0m\n",
      "\u001b[1;32mpandas\\_libs\\index.pyx\u001b[0m in \u001b[0;36mpandas._libs.index.IndexEngine.get_loc\u001b[1;34m()\u001b[0m\n",
      "\u001b[1;32mpandas\\_libs\\index.pyx\u001b[0m in \u001b[0;36mpandas._libs.index.IndexEngine.get_loc\u001b[1;34m()\u001b[0m\n",
      "\u001b[1;32mpandas\\_libs\\hashtable_class_helper.pxi\u001b[0m in \u001b[0;36mpandas._libs.hashtable.PyObjectHashTable.get_item\u001b[1;34m()\u001b[0m\n",
      "\u001b[1;32mpandas\\_libs\\hashtable_class_helper.pxi\u001b[0m in \u001b[0;36mpandas._libs.hashtable.PyObjectHashTable.get_item\u001b[1;34m()\u001b[0m\n",
      "\u001b[1;31mKeyError\u001b[0m: 'punct_count'",
      "\nThe above exception was the direct cause of the following exception:\n",
      "\u001b[1;31mKeyError\u001b[0m                                  Traceback (most recent call last)",
      "\u001b[1;32m<ipython-input-8-ac1cd3653dee>\u001b[0m in \u001b[0;36m<module>\u001b[1;34m\u001b[0m\n\u001b[0;32m      1\u001b[0m \u001b[0mbins\u001b[0m \u001b[1;33m=\u001b[0m \u001b[0mnp\u001b[0m\u001b[1;33m.\u001b[0m\u001b[0mlinspace\u001b[0m\u001b[1;33m(\u001b[0m\u001b[1;36m0\u001b[0m\u001b[1;33m,\u001b[0m\u001b[1;36m50\u001b[0m\u001b[1;33m,\u001b[0m\u001b[1;36m20\u001b[0m\u001b[1;33m)\u001b[0m\u001b[1;33m\u001b[0m\u001b[1;33m\u001b[0m\u001b[0m\n\u001b[0;32m      2\u001b[0m \u001b[1;32mfor\u001b[0m \u001b[0mi\u001b[0m \u001b[1;32min\u001b[0m \u001b[0mlabels\u001b[0m\u001b[1;33m:\u001b[0m\u001b[1;33m\u001b[0m\u001b[1;33m\u001b[0m\u001b[0m\n\u001b[1;32m----> 3\u001b[1;33m     \u001b[0mpyplot\u001b[0m\u001b[1;33m.\u001b[0m\u001b[0mhist\u001b[0m\u001b[1;33m(\u001b[0m\u001b[0mfullCorpus\u001b[0m\u001b[1;33m[\u001b[0m\u001b[0mfullCorpus\u001b[0m\u001b[1;33m[\u001b[0m\u001b[1;34m\"label\"\u001b[0m\u001b[1;33m]\u001b[0m\u001b[1;33m==\u001b[0m\u001b[0mi\u001b[0m\u001b[1;33m]\u001b[0m\u001b[1;33m[\u001b[0m\u001b[1;34m\"punct_count\"\u001b[0m\u001b[1;33m]\u001b[0m\u001b[1;33m,\u001b[0m \u001b[0mbins\u001b[0m\u001b[1;33m,\u001b[0m \u001b[0malpha\u001b[0m\u001b[1;33m=\u001b[0m\u001b[1;36m0.5\u001b[0m\u001b[1;33m,\u001b[0m \u001b[0mdensity\u001b[0m\u001b[1;33m=\u001b[0m\u001b[1;32mTrue\u001b[0m\u001b[1;33m,\u001b[0m \u001b[0mstacked\u001b[0m\u001b[1;33m=\u001b[0m\u001b[1;32mTrue\u001b[0m\u001b[1;33m,\u001b[0m \u001b[0mlabel\u001b[0m\u001b[1;33m=\u001b[0m\u001b[0mi\u001b[0m\u001b[1;33m)\u001b[0m\u001b[1;33m\u001b[0m\u001b[1;33m\u001b[0m\u001b[0m\n\u001b[0m\u001b[0;32m      4\u001b[0m \u001b[1;33m\u001b[0m\u001b[0m\n\u001b[0;32m      5\u001b[0m \u001b[0mpyplot\u001b[0m\u001b[1;33m.\u001b[0m\u001b[0mrcParams\u001b[0m\u001b[1;33m[\u001b[0m\u001b[1;34m\"figure.figsize\"\u001b[0m\u001b[1;33m]\u001b[0m\u001b[1;33m=\u001b[0m\u001b[1;36m40\u001b[0m\u001b[1;33m,\u001b[0m\u001b[1;36m40\u001b[0m\u001b[1;33m\u001b[0m\u001b[1;33m\u001b[0m\u001b[0m\n",
      "\u001b[1;32m~\\Anaconda3\\lib\\site-packages\\pandas\\core\\frame.py\u001b[0m in \u001b[0;36m__getitem__\u001b[1;34m(self, key)\u001b[0m\n\u001b[0;32m   3022\u001b[0m             \u001b[1;32mif\u001b[0m \u001b[0mself\u001b[0m\u001b[1;33m.\u001b[0m\u001b[0mcolumns\u001b[0m\u001b[1;33m.\u001b[0m\u001b[0mnlevels\u001b[0m \u001b[1;33m>\u001b[0m \u001b[1;36m1\u001b[0m\u001b[1;33m:\u001b[0m\u001b[1;33m\u001b[0m\u001b[1;33m\u001b[0m\u001b[0m\n\u001b[0;32m   3023\u001b[0m                 \u001b[1;32mreturn\u001b[0m \u001b[0mself\u001b[0m\u001b[1;33m.\u001b[0m\u001b[0m_getitem_multilevel\u001b[0m\u001b[1;33m(\u001b[0m\u001b[0mkey\u001b[0m\u001b[1;33m)\u001b[0m\u001b[1;33m\u001b[0m\u001b[1;33m\u001b[0m\u001b[0m\n\u001b[1;32m-> 3024\u001b[1;33m             \u001b[0mindexer\u001b[0m \u001b[1;33m=\u001b[0m \u001b[0mself\u001b[0m\u001b[1;33m.\u001b[0m\u001b[0mcolumns\u001b[0m\u001b[1;33m.\u001b[0m\u001b[0mget_loc\u001b[0m\u001b[1;33m(\u001b[0m\u001b[0mkey\u001b[0m\u001b[1;33m)\u001b[0m\u001b[1;33m\u001b[0m\u001b[1;33m\u001b[0m\u001b[0m\n\u001b[0m\u001b[0;32m   3025\u001b[0m             \u001b[1;32mif\u001b[0m \u001b[0mis_integer\u001b[0m\u001b[1;33m(\u001b[0m\u001b[0mindexer\u001b[0m\u001b[1;33m)\u001b[0m\u001b[1;33m:\u001b[0m\u001b[1;33m\u001b[0m\u001b[1;33m\u001b[0m\u001b[0m\n\u001b[0;32m   3026\u001b[0m                 \u001b[0mindexer\u001b[0m \u001b[1;33m=\u001b[0m \u001b[1;33m[\u001b[0m\u001b[0mindexer\u001b[0m\u001b[1;33m]\u001b[0m\u001b[1;33m\u001b[0m\u001b[1;33m\u001b[0m\u001b[0m\n",
      "\u001b[1;32m~\\Anaconda3\\lib\\site-packages\\pandas\\core\\indexes\\base.py\u001b[0m in \u001b[0;36mget_loc\u001b[1;34m(self, key, method, tolerance)\u001b[0m\n\u001b[0;32m   3080\u001b[0m                 \u001b[1;32mreturn\u001b[0m \u001b[0mself\u001b[0m\u001b[1;33m.\u001b[0m\u001b[0m_engine\u001b[0m\u001b[1;33m.\u001b[0m\u001b[0mget_loc\u001b[0m\u001b[1;33m(\u001b[0m\u001b[0mcasted_key\u001b[0m\u001b[1;33m)\u001b[0m\u001b[1;33m\u001b[0m\u001b[1;33m\u001b[0m\u001b[0m\n\u001b[0;32m   3081\u001b[0m             \u001b[1;32mexcept\u001b[0m \u001b[0mKeyError\u001b[0m \u001b[1;32mas\u001b[0m \u001b[0merr\u001b[0m\u001b[1;33m:\u001b[0m\u001b[1;33m\u001b[0m\u001b[1;33m\u001b[0m\u001b[0m\n\u001b[1;32m-> 3082\u001b[1;33m                 \u001b[1;32mraise\u001b[0m \u001b[0mKeyError\u001b[0m\u001b[1;33m(\u001b[0m\u001b[0mkey\u001b[0m\u001b[1;33m)\u001b[0m \u001b[1;32mfrom\u001b[0m \u001b[0merr\u001b[0m\u001b[1;33m\u001b[0m\u001b[1;33m\u001b[0m\u001b[0m\n\u001b[0m\u001b[0;32m   3083\u001b[0m \u001b[1;33m\u001b[0m\u001b[0m\n\u001b[0;32m   3084\u001b[0m         \u001b[1;32mif\u001b[0m \u001b[0mtolerance\u001b[0m \u001b[1;32mis\u001b[0m \u001b[1;32mnot\u001b[0m \u001b[1;32mNone\u001b[0m\u001b[1;33m:\u001b[0m\u001b[1;33m\u001b[0m\u001b[1;33m\u001b[0m\u001b[0m\n",
      "\u001b[1;31mKeyError\u001b[0m: 'punct_count'"
     ]
    }
   ],
   "source": [
    "bins = np.linspace(0,50,20)\n",
    "for i in labels:\n",
    "    pyplot.hist(fullCorpus[fullCorpus[\"label\"]==i][\"punct_count\"], bins, alpha=0.5, density=True, stacked=True, label=i)\n",
    "\n",
    "pyplot.rcParams[\"figure.figsize\"]=40,40\n",
    "pyplot.legend(loc=\"upper left\")\n",
    "\n",
    "pyplot.show()"
   ]
  },
  {
   "cell_type": "code",
   "execution_count": 362,
   "id": "28611c1c",
   "metadata": {},
   "outputs": [
    {
     "data": {
      "text/html": [
       "<div>\n",
       "<style scoped>\n",
       "    .dataframe tbody tr th:only-of-type {\n",
       "        vertical-align: middle;\n",
       "    }\n",
       "\n",
       "    .dataframe tbody tr th {\n",
       "        vertical-align: top;\n",
       "    }\n",
       "\n",
       "    .dataframe thead th {\n",
       "        text-align: right;\n",
       "    }\n",
       "</style>\n",
       "<table border=\"1\" class=\"dataframe\">\n",
       "  <thead>\n",
       "    <tr style=\"text-align: right;\">\n",
       "      <th></th>\n",
       "      <th>text_length</th>\n",
       "      <th>punct_count</th>\n",
       "      <th>0</th>\n",
       "      <th>1</th>\n",
       "      <th>2</th>\n",
       "      <th>3</th>\n",
       "      <th>4</th>\n",
       "      <th>5</th>\n",
       "      <th>6</th>\n",
       "      <th>7</th>\n",
       "      <th>...</th>\n",
       "      <th>1177</th>\n",
       "      <th>1178</th>\n",
       "      <th>1179</th>\n",
       "      <th>1180</th>\n",
       "      <th>1181</th>\n",
       "      <th>1182</th>\n",
       "      <th>1183</th>\n",
       "      <th>1184</th>\n",
       "      <th>1185</th>\n",
       "      <th>1186</th>\n",
       "    </tr>\n",
       "  </thead>\n",
       "  <tbody>\n",
       "    <tr>\n",
       "      <th>0</th>\n",
       "      <td>41</td>\n",
       "      <td>7.3</td>\n",
       "      <td>0.0</td>\n",
       "      <td>0.0</td>\n",
       "      <td>0.0</td>\n",
       "      <td>0.0</td>\n",
       "      <td>0.0</td>\n",
       "      <td>0.0</td>\n",
       "      <td>0.0</td>\n",
       "      <td>0.0</td>\n",
       "      <td>...</td>\n",
       "      <td>0.0</td>\n",
       "      <td>0.0</td>\n",
       "      <td>0.0</td>\n",
       "      <td>0.0</td>\n",
       "      <td>0.0</td>\n",
       "      <td>0.0</td>\n",
       "      <td>0.0</td>\n",
       "      <td>0.0</td>\n",
       "      <td>0.0</td>\n",
       "      <td>0.0</td>\n",
       "    </tr>\n",
       "    <tr>\n",
       "      <th>1</th>\n",
       "      <td>53</td>\n",
       "      <td>5.7</td>\n",
       "      <td>0.0</td>\n",
       "      <td>0.0</td>\n",
       "      <td>0.0</td>\n",
       "      <td>0.0</td>\n",
       "      <td>0.0</td>\n",
       "      <td>0.0</td>\n",
       "      <td>0.0</td>\n",
       "      <td>0.0</td>\n",
       "      <td>...</td>\n",
       "      <td>0.0</td>\n",
       "      <td>0.0</td>\n",
       "      <td>0.0</td>\n",
       "      <td>0.0</td>\n",
       "      <td>0.0</td>\n",
       "      <td>0.0</td>\n",
       "      <td>0.0</td>\n",
       "      <td>0.0</td>\n",
       "      <td>0.0</td>\n",
       "      <td>0.0</td>\n",
       "    </tr>\n",
       "    <tr>\n",
       "      <th>2</th>\n",
       "      <td>44</td>\n",
       "      <td>6.8</td>\n",
       "      <td>0.0</td>\n",
       "      <td>0.0</td>\n",
       "      <td>0.0</td>\n",
       "      <td>0.0</td>\n",
       "      <td>0.0</td>\n",
       "      <td>0.0</td>\n",
       "      <td>0.0</td>\n",
       "      <td>0.0</td>\n",
       "      <td>...</td>\n",
       "      <td>0.0</td>\n",
       "      <td>0.0</td>\n",
       "      <td>0.0</td>\n",
       "      <td>0.0</td>\n",
       "      <td>0.0</td>\n",
       "      <td>0.0</td>\n",
       "      <td>0.0</td>\n",
       "      <td>0.0</td>\n",
       "      <td>0.0</td>\n",
       "      <td>0.0</td>\n",
       "    </tr>\n",
       "    <tr>\n",
       "      <th>3</th>\n",
       "      <td>18</td>\n",
       "      <td>16.7</td>\n",
       "      <td>0.0</td>\n",
       "      <td>0.0</td>\n",
       "      <td>0.0</td>\n",
       "      <td>0.0</td>\n",
       "      <td>0.0</td>\n",
       "      <td>0.0</td>\n",
       "      <td>0.0</td>\n",
       "      <td>0.0</td>\n",
       "      <td>...</td>\n",
       "      <td>0.0</td>\n",
       "      <td>0.0</td>\n",
       "      <td>0.0</td>\n",
       "      <td>0.0</td>\n",
       "      <td>0.0</td>\n",
       "      <td>0.0</td>\n",
       "      <td>0.0</td>\n",
       "      <td>0.0</td>\n",
       "      <td>0.0</td>\n",
       "      <td>0.0</td>\n",
       "    </tr>\n",
       "    <tr>\n",
       "      <th>4</th>\n",
       "      <td>30</td>\n",
       "      <td>10.0</td>\n",
       "      <td>0.0</td>\n",
       "      <td>0.0</td>\n",
       "      <td>0.0</td>\n",
       "      <td>0.0</td>\n",
       "      <td>0.0</td>\n",
       "      <td>0.0</td>\n",
       "      <td>0.0</td>\n",
       "      <td>0.0</td>\n",
       "      <td>...</td>\n",
       "      <td>0.0</td>\n",
       "      <td>0.0</td>\n",
       "      <td>0.0</td>\n",
       "      <td>0.0</td>\n",
       "      <td>0.0</td>\n",
       "      <td>0.0</td>\n",
       "      <td>0.0</td>\n",
       "      <td>0.0</td>\n",
       "      <td>0.0</td>\n",
       "      <td>0.0</td>\n",
       "    </tr>\n",
       "  </tbody>\n",
       "</table>\n",
       "<p>5 rows × 1189 columns</p>\n",
       "</div>"
      ],
      "text/plain": [
       "   text_length  punct_count    0    1    2    3    4    5    6    7  ...  \\\n",
       "0           41          7.3  0.0  0.0  0.0  0.0  0.0  0.0  0.0  0.0  ...   \n",
       "1           53          5.7  0.0  0.0  0.0  0.0  0.0  0.0  0.0  0.0  ...   \n",
       "2           44          6.8  0.0  0.0  0.0  0.0  0.0  0.0  0.0  0.0  ...   \n",
       "3           18         16.7  0.0  0.0  0.0  0.0  0.0  0.0  0.0  0.0  ...   \n",
       "4           30         10.0  0.0  0.0  0.0  0.0  0.0  0.0  0.0  0.0  ...   \n",
       "\n",
       "   1177  1178  1179  1180  1181  1182  1183  1184  1185  1186  \n",
       "0   0.0   0.0   0.0   0.0   0.0   0.0   0.0   0.0   0.0   0.0  \n",
       "1   0.0   0.0   0.0   0.0   0.0   0.0   0.0   0.0   0.0   0.0  \n",
       "2   0.0   0.0   0.0   0.0   0.0   0.0   0.0   0.0   0.0   0.0  \n",
       "3   0.0   0.0   0.0   0.0   0.0   0.0   0.0   0.0   0.0   0.0  \n",
       "4   0.0   0.0   0.0   0.0   0.0   0.0   0.0   0.0   0.0   0.0  \n",
       "\n",
       "[5 rows x 1189 columns]"
      ]
     },
     "execution_count": 362,
     "metadata": {},
     "output_type": "execute_result"
    }
   ],
   "source": [
    "#Vectorize the text so that feature vectors can be created -> numerical features.\n",
    "from nltk.corpus import stopwords\n",
    "from sklearn.feature_extraction.text import TfidfVectorizer\n",
    "stop_words = stopwords.words(\"english\")\n",
    "ps = nltk.PorterStemmer()\n",
    "wn = nltk.WordNetLemmatizer() \n",
    "\n",
    "def clean_text(text):\n",
    "    #remove punctuation \n",
    "    text = \"\".join([char for char in text if char not in string.punctuation])\n",
    "    # Tokenization of the words\n",
    "    tokens = re.split('\\W+', text)\n",
    "    #remove stopwords and lemmatized\n",
    "    cleaned_text = [wn.lemmatize(i) for i in tokens if i not in stop_words]\n",
    "    #stem the words\n",
    "    #stemmed_text = [ps.stem(word) for word in cleaned_text]\n",
    "    #lemmitize the words\n",
    "    #lemmitized_text = [wn.lemmatize(word) for word in cleaned_text]\n",
    "    return cleaned_text\n",
    "\n",
    "\n",
    "tfidf_vect = TfidfVectorizer(analyzer=clean_text)\n",
    "x_tfidf = tfidf_vect.fit_transform(fullCorpus[\"desc_text\"])\n",
    "#print(x_tfidf.shape)\n",
    "#print(tfidf_vect.get_feature_names())\n",
    "\n",
    "X_features = pd.concat([fullCorpus['text_length'], fullCorpus['punct_count'],pd.DataFrame(x_tfidf.toarray())], axis=1)\n",
    "#X_features = pd.DataFrame(x_tfidf.toarray())\n",
    "X_features.head()\n",
    "\n"
   ]
  },
  {
   "cell_type": "code",
   "execution_count": 9,
   "id": "2851d47b",
   "metadata": {},
   "outputs": [],
   "source": [
    "from sklearn.ensemble import RandomForestClassifier"
   ]
  },
  {
   "cell_type": "code",
   "execution_count": 10,
   "id": "af42e535",
   "metadata": {},
   "outputs": [],
   "source": [
    "from sklearn.model_selection import KFold, cross_val_score"
   ]
  },
  {
   "cell_type": "code",
   "execution_count": 11,
   "id": "43699fbb",
   "metadata": {},
   "outputs": [
    {
     "ename": "NameError",
     "evalue": "name 'X_features' is not defined",
     "output_type": "error",
     "traceback": [
      "\u001b[1;31m---------------------------------------------------------------------------\u001b[0m",
      "\u001b[1;31mNameError\u001b[0m                                 Traceback (most recent call last)",
      "\u001b[1;32m<ipython-input-11-fa7f6558764b>\u001b[0m in \u001b[0;36m<module>\u001b[1;34m\u001b[0m\n\u001b[0;32m      1\u001b[0m \u001b[0mrf\u001b[0m \u001b[1;33m=\u001b[0m \u001b[0mRandomForestClassifier\u001b[0m\u001b[1;33m(\u001b[0m\u001b[0mn_jobs\u001b[0m\u001b[1;33m=\u001b[0m\u001b[1;33m-\u001b[0m\u001b[1;36m1\u001b[0m\u001b[1;33m)\u001b[0m\u001b[1;33m\u001b[0m\u001b[1;33m\u001b[0m\u001b[0m\n\u001b[0;32m      2\u001b[0m \u001b[0mk_fold\u001b[0m \u001b[1;33m=\u001b[0m \u001b[0mKFold\u001b[0m\u001b[1;33m(\u001b[0m\u001b[0mn_splits\u001b[0m\u001b[1;33m=\u001b[0m\u001b[1;36m5\u001b[0m\u001b[1;33m)\u001b[0m\u001b[1;33m\u001b[0m\u001b[1;33m\u001b[0m\u001b[0m\n\u001b[1;32m----> 3\u001b[1;33m \u001b[0mcross_val_score\u001b[0m\u001b[1;33m(\u001b[0m\u001b[0mrf\u001b[0m\u001b[1;33m,\u001b[0m \u001b[0mX_features\u001b[0m\u001b[1;33m,\u001b[0m \u001b[0mfullCorpus\u001b[0m\u001b[1;33m[\u001b[0m\u001b[1;34m\"label\"\u001b[0m\u001b[1;33m]\u001b[0m\u001b[1;33m,\u001b[0m \u001b[0mcv\u001b[0m\u001b[1;33m=\u001b[0m\u001b[0mk_fold\u001b[0m\u001b[1;33m,\u001b[0m \u001b[0mscoring\u001b[0m\u001b[1;33m=\u001b[0m\u001b[1;34m\"accuracy\"\u001b[0m\u001b[1;33m,\u001b[0m \u001b[0mn_jobs\u001b[0m\u001b[1;33m=\u001b[0m\u001b[1;33m-\u001b[0m\u001b[1;36m1\u001b[0m\u001b[1;33m)\u001b[0m\u001b[1;33m\u001b[0m\u001b[1;33m\u001b[0m\u001b[0m\n\u001b[0m",
      "\u001b[1;31mNameError\u001b[0m: name 'X_features' is not defined"
     ]
    }
   ],
   "source": [
    "rf = RandomForestClassifier(n_jobs=-1)\n",
    "k_fold = KFold(n_splits=5)\n",
    "cross_val_score(rf, X_features, fullCorpus[\"label\"], cv=k_fold, scoring=\"accuracy\", n_jobs=-1)"
   ]
  },
  {
   "cell_type": "code",
   "execution_count": 17,
   "id": "9f1d80f3",
   "metadata": {},
   "outputs": [],
   "source": [
    "from sklearn.metrics import precision_recall_fscore_support as score\n",
    "from sklearn.model_selection import train_test_split\n",
    "from sklearn.naive_bayes import MultinomialNB"
   ]
  },
  {
   "cell_type": "code",
   "execution_count": 18,
   "id": "2c1f47c8",
   "metadata": {},
   "outputs": [],
   "source": [
    "x_train, x_test, y_train, y_test  = train_test_split(X_features, fullCorpus[\"label\"], test_size=0.2)"
   ]
  },
  {
   "cell_type": "code",
   "execution_count": 19,
   "id": "297f6576",
   "metadata": {},
   "outputs": [
    {
     "data": {
      "text/plain": [
       "[(0.05286260404346562, 425),\n",
       " (0.04355318859906023, 487),\n",
       " (0.03085865340298649, 360),\n",
       " (0.029665199740984582, 1036),\n",
       " (0.02797044044759015, 159),\n",
       " (0.027706214824754223, 529),\n",
       " (0.024812932721215607, 479),\n",
       " (0.023759403350314894, 222),\n",
       " (0.02273399011751401, 429),\n",
       " (0.02196607392312418, 576)]"
      ]
     },
     "execution_count": 19,
     "metadata": {},
     "output_type": "execute_result"
    }
   ],
   "source": [
    "rf=RandomForestClassifier(n_estimators=50, max_depth=20, n_jobs=-1)\n",
    "rf_model = rf.fit(x_train, y_train)\n",
    "sorted(zip(rf_model.feature_importances_, x_train.columns), reverse=True)[0:10]"
   ]
  },
  {
   "cell_type": "code",
   "execution_count": 20,
   "id": "bf5c4d39",
   "metadata": {},
   "outputs": [
    {
     "name": "stdout",
     "output_type": "stream",
     "text": [
      "0.6486486486486487\n"
     ]
    },
    {
     "name": "stderr",
     "output_type": "stream",
     "text": [
      "C:\\Users\\Tobi.Akinyemi\\Anaconda3\\lib\\site-packages\\sklearn\\metrics\\_classification.py:1245: UndefinedMetricWarning: Precision and F-score are ill-defined and being set to 0.0 in labels with no predicted samples. Use `zero_division` parameter to control this behavior.\n",
      "  _warn_prf(average, modifier, msg_start, len(result))\n"
     ]
    }
   ],
   "source": [
    "y_pred = rf_model.predict(x_test)\n",
    "precision, recall, fscore, support = score(y_test,y_pred)\n",
    "print((y_pred == y_test).sum()/len(y_pred))"
   ]
  },
  {
   "cell_type": "code",
   "execution_count": 21,
   "id": "4c0a3f81",
   "metadata": {},
   "outputs": [],
   "source": [
    "def train_rf(n_est, depth):\n",
    "    rf = RandomForestClassifier(n_estimators=n_est, max_depth=depth, n_jobs=-1)\n",
    "    rf_model = rf.fit(x_train, y_train)\n",
    "    y_pred = rf_model.predict(x_test)\n",
    "    precision, recall, fscore, support = score(y_test,y_pred)\n",
    "    print(\"Accuracy: \", (y_pred == y_test).sum()/len(y_pred)) "
   ]
  },
  {
   "cell_type": "code",
   "execution_count": 22,
   "id": "39a6e2d5",
   "metadata": {
    "scrolled": true
   },
   "outputs": [
    {
     "name": "stderr",
     "output_type": "stream",
     "text": [
      "C:\\Users\\Tobi.Akinyemi\\Anaconda3\\lib\\site-packages\\sklearn\\metrics\\_classification.py:1245: UndefinedMetricWarning: Precision and F-score are ill-defined and being set to 0.0 in labels with no predicted samples. Use `zero_division` parameter to control this behavior.\n",
      "  _warn_prf(average, modifier, msg_start, len(result))\n",
      "C:\\Users\\Tobi.Akinyemi\\Anaconda3\\lib\\site-packages\\sklearn\\metrics\\_classification.py:1245: UndefinedMetricWarning: Recall and F-score are ill-defined and being set to 0.0 in labels with no true samples. Use `zero_division` parameter to control this behavior.\n",
      "  _warn_prf(average, modifier, msg_start, len(result))\n",
      "C:\\Users\\Tobi.Akinyemi\\Anaconda3\\lib\\site-packages\\sklearn\\metrics\\_classification.py:1245: UndefinedMetricWarning: Precision and F-score are ill-defined and being set to 0.0 in labels with no predicted samples. Use `zero_division` parameter to control this behavior.\n",
      "  _warn_prf(average, modifier, msg_start, len(result))\n",
      "C:\\Users\\Tobi.Akinyemi\\Anaconda3\\lib\\site-packages\\sklearn\\metrics\\_classification.py:1245: UndefinedMetricWarning: Recall and F-score are ill-defined and being set to 0.0 in labels with no true samples. Use `zero_division` parameter to control this behavior.\n",
      "  _warn_prf(average, modifier, msg_start, len(result))\n",
      "C:\\Users\\Tobi.Akinyemi\\Anaconda3\\lib\\site-packages\\sklearn\\metrics\\_classification.py:1245: UndefinedMetricWarning: Precision and F-score are ill-defined and being set to 0.0 in labels with no predicted samples. Use `zero_division` parameter to control this behavior.\n",
      "  _warn_prf(average, modifier, msg_start, len(result))\n",
      "C:\\Users\\Tobi.Akinyemi\\Anaconda3\\lib\\site-packages\\sklearn\\metrics\\_classification.py:1245: UndefinedMetricWarning: Precision and F-score are ill-defined and being set to 0.0 in labels with no predicted samples. Use `zero_division` parameter to control this behavior.\n",
      "  _warn_prf(average, modifier, msg_start, len(result))\n",
      "C:\\Users\\Tobi.Akinyemi\\Anaconda3\\lib\\site-packages\\sklearn\\metrics\\_classification.py:1245: UndefinedMetricWarning: Recall and F-score are ill-defined and being set to 0.0 in labels with no true samples. Use `zero_division` parameter to control this behavior.\n",
      "  _warn_prf(average, modifier, msg_start, len(result))\n"
     ]
    },
    {
     "name": "stdout",
     "output_type": "stream",
     "text": [
      "Accuracy:  0.44144144144144143\n",
      "Accuracy:  0.5855855855855856\n",
      "Accuracy:  0.6126126126126126\n",
      "Accuracy:  0.6666666666666666\n"
     ]
    },
    {
     "name": "stderr",
     "output_type": "stream",
     "text": [
      "C:\\Users\\Tobi.Akinyemi\\Anaconda3\\lib\\site-packages\\sklearn\\metrics\\_classification.py:1245: UndefinedMetricWarning: Precision and F-score are ill-defined and being set to 0.0 in labels with no predicted samples. Use `zero_division` parameter to control this behavior.\n",
      "  _warn_prf(average, modifier, msg_start, len(result))\n",
      "C:\\Users\\Tobi.Akinyemi\\Anaconda3\\lib\\site-packages\\sklearn\\metrics\\_classification.py:1245: UndefinedMetricWarning: Precision and F-score are ill-defined and being set to 0.0 in labels with no predicted samples. Use `zero_division` parameter to control this behavior.\n",
      "  _warn_prf(average, modifier, msg_start, len(result))\n"
     ]
    },
    {
     "name": "stdout",
     "output_type": "stream",
     "text": [
      "Accuracy:  0.5945945945945946\n",
      "Accuracy:  0.6486486486486487\n"
     ]
    },
    {
     "name": "stderr",
     "output_type": "stream",
     "text": [
      "C:\\Users\\Tobi.Akinyemi\\Anaconda3\\lib\\site-packages\\sklearn\\metrics\\_classification.py:1245: UndefinedMetricWarning: Precision and F-score are ill-defined and being set to 0.0 in labels with no predicted samples. Use `zero_division` parameter to control this behavior.\n",
      "  _warn_prf(average, modifier, msg_start, len(result))\n",
      "C:\\Users\\Tobi.Akinyemi\\Anaconda3\\lib\\site-packages\\sklearn\\metrics\\_classification.py:1245: UndefinedMetricWarning: Precision and F-score are ill-defined and being set to 0.0 in labels with no predicted samples. Use `zero_division` parameter to control this behavior.\n",
      "  _warn_prf(average, modifier, msg_start, len(result))\n",
      "C:\\Users\\Tobi.Akinyemi\\Anaconda3\\lib\\site-packages\\sklearn\\metrics\\_classification.py:1245: UndefinedMetricWarning: Recall and F-score are ill-defined and being set to 0.0 in labels with no true samples. Use `zero_division` parameter to control this behavior.\n",
      "  _warn_prf(average, modifier, msg_start, len(result))\n"
     ]
    },
    {
     "name": "stdout",
     "output_type": "stream",
     "text": [
      "Accuracy:  0.6756756756756757\n",
      "Accuracy:  0.6666666666666666\n"
     ]
    },
    {
     "name": "stderr",
     "output_type": "stream",
     "text": [
      "C:\\Users\\Tobi.Akinyemi\\Anaconda3\\lib\\site-packages\\sklearn\\metrics\\_classification.py:1245: UndefinedMetricWarning: Precision and F-score are ill-defined and being set to 0.0 in labels with no predicted samples. Use `zero_division` parameter to control this behavior.\n",
      "  _warn_prf(average, modifier, msg_start, len(result))\n"
     ]
    },
    {
     "name": "stdout",
     "output_type": "stream",
     "text": [
      "Accuracy:  0.5945945945945946\n"
     ]
    },
    {
     "name": "stderr",
     "output_type": "stream",
     "text": [
      "C:\\Users\\Tobi.Akinyemi\\Anaconda3\\lib\\site-packages\\sklearn\\metrics\\_classification.py:1245: UndefinedMetricWarning: Precision and F-score are ill-defined and being set to 0.0 in labels with no predicted samples. Use `zero_division` parameter to control this behavior.\n",
      "  _warn_prf(average, modifier, msg_start, len(result))\n",
      "C:\\Users\\Tobi.Akinyemi\\Anaconda3\\lib\\site-packages\\sklearn\\metrics\\_classification.py:1245: UndefinedMetricWarning: Recall and F-score are ill-defined and being set to 0.0 in labels with no true samples. Use `zero_division` parameter to control this behavior.\n",
      "  _warn_prf(average, modifier, msg_start, len(result))\n"
     ]
    },
    {
     "name": "stdout",
     "output_type": "stream",
     "text": [
      "Accuracy:  0.6666666666666666\n"
     ]
    },
    {
     "name": "stderr",
     "output_type": "stream",
     "text": [
      "C:\\Users\\Tobi.Akinyemi\\Anaconda3\\lib\\site-packages\\sklearn\\metrics\\_classification.py:1245: UndefinedMetricWarning: Precision and F-score are ill-defined and being set to 0.0 in labels with no predicted samples. Use `zero_division` parameter to control this behavior.\n",
      "  _warn_prf(average, modifier, msg_start, len(result))\n"
     ]
    },
    {
     "name": "stdout",
     "output_type": "stream",
     "text": [
      "Accuracy:  0.7027027027027027\n",
      "Accuracy:  0.7117117117117117\n"
     ]
    },
    {
     "name": "stderr",
     "output_type": "stream",
     "text": [
      "C:\\Users\\Tobi.Akinyemi\\Anaconda3\\lib\\site-packages\\sklearn\\metrics\\_classification.py:1245: UndefinedMetricWarning: Precision and F-score are ill-defined and being set to 0.0 in labels with no predicted samples. Use `zero_division` parameter to control this behavior.\n",
      "  _warn_prf(average, modifier, msg_start, len(result))\n",
      "C:\\Users\\Tobi.Akinyemi\\Anaconda3\\lib\\site-packages\\sklearn\\metrics\\_classification.py:1245: UndefinedMetricWarning: Recall and F-score are ill-defined and being set to 0.0 in labels with no true samples. Use `zero_division` parameter to control this behavior.\n",
      "  _warn_prf(average, modifier, msg_start, len(result))\n"
     ]
    }
   ],
   "source": [
    "for n_est in [10,50, 100]:\n",
    "        for depth in [10,20,30 , None]:\n",
    "            train_rf(n_est, depth)"
   ]
  },
  {
   "cell_type": "code",
   "execution_count": 23,
   "id": "daafc91f",
   "metadata": {},
   "outputs": [],
   "source": [
    "from sklearn.ensemble import GradientBoostingClassifier\n"
   ]
  },
  {
   "cell_type": "code",
   "execution_count": 24,
   "id": "346fad02",
   "metadata": {},
   "outputs": [],
   "source": [
    "def train_gb(est, depth, lr):\n",
    "    gb = GradientBoostingClassifier(n_estimators=n_est, max_depth=depth, learning_rate = lr)\n",
    "    gb_model = rf.fit(x_train, y_train)\n",
    "    y_pred = gb_model.predict(x_test)\n",
    "    precision, recall, fscore, support = score(y_test,y_pred)\n",
    "    print(\"Accuracy: \", (y_pred == y_test).sum()/len(y_pred)) "
   ]
  },
  {
   "cell_type": "code",
   "execution_count": 858,
   "id": "62f57a30",
   "metadata": {},
   "outputs": [
    {
     "name": "stderr",
     "output_type": "stream",
     "text": [
      "C:\\Users\\Tobi.Akinyemi\\Anaconda3\\lib\\site-packages\\sklearn\\metrics\\_classification.py:1245: UndefinedMetricWarning: Precision and F-score are ill-defined and being set to 0.0 in labels with no predicted samples. Use `zero_division` parameter to control this behavior.\n",
      "  _warn_prf(average, modifier, msg_start, len(result))\n"
     ]
    },
    {
     "name": "stdout",
     "output_type": "stream",
     "text": [
      "Accuracy:  0.6396396396396397\n"
     ]
    },
    {
     "name": "stderr",
     "output_type": "stream",
     "text": [
      "C:\\Users\\Tobi.Akinyemi\\Anaconda3\\lib\\site-packages\\sklearn\\metrics\\_classification.py:1245: UndefinedMetricWarning: Precision and F-score are ill-defined and being set to 0.0 in labels with no predicted samples. Use `zero_division` parameter to control this behavior.\n",
      "  _warn_prf(average, modifier, msg_start, len(result))\n"
     ]
    },
    {
     "name": "stdout",
     "output_type": "stream",
     "text": [
      "Accuracy:  0.6666666666666666\n"
     ]
    },
    {
     "name": "stderr",
     "output_type": "stream",
     "text": [
      "C:\\Users\\Tobi.Akinyemi\\Anaconda3\\lib\\site-packages\\sklearn\\metrics\\_classification.py:1245: UndefinedMetricWarning: Precision and F-score are ill-defined and being set to 0.0 in labels with no predicted samples. Use `zero_division` parameter to control this behavior.\n",
      "  _warn_prf(average, modifier, msg_start, len(result))\n"
     ]
    },
    {
     "name": "stdout",
     "output_type": "stream",
     "text": [
      "Accuracy:  0.7027027027027027\n"
     ]
    },
    {
     "name": "stderr",
     "output_type": "stream",
     "text": [
      "C:\\Users\\Tobi.Akinyemi\\Anaconda3\\lib\\site-packages\\sklearn\\metrics\\_classification.py:1245: UndefinedMetricWarning: Precision and F-score are ill-defined and being set to 0.0 in labels with no predicted samples. Use `zero_division` parameter to control this behavior.\n",
      "  _warn_prf(average, modifier, msg_start, len(result))\n"
     ]
    },
    {
     "name": "stdout",
     "output_type": "stream",
     "text": [
      "Accuracy:  0.6576576576576577\n"
     ]
    },
    {
     "name": "stderr",
     "output_type": "stream",
     "text": [
      "C:\\Users\\Tobi.Akinyemi\\Anaconda3\\lib\\site-packages\\sklearn\\metrics\\_classification.py:1245: UndefinedMetricWarning: Precision and F-score are ill-defined and being set to 0.0 in labels with no predicted samples. Use `zero_division` parameter to control this behavior.\n",
      "  _warn_prf(average, modifier, msg_start, len(result))\n"
     ]
    },
    {
     "name": "stdout",
     "output_type": "stream",
     "text": [
      "Accuracy:  0.6756756756756757\n"
     ]
    },
    {
     "name": "stderr",
     "output_type": "stream",
     "text": [
      "C:\\Users\\Tobi.Akinyemi\\Anaconda3\\lib\\site-packages\\sklearn\\metrics\\_classification.py:1245: UndefinedMetricWarning: Precision and F-score are ill-defined and being set to 0.0 in labels with no predicted samples. Use `zero_division` parameter to control this behavior.\n",
      "  _warn_prf(average, modifier, msg_start, len(result))\n"
     ]
    },
    {
     "name": "stdout",
     "output_type": "stream",
     "text": [
      "Accuracy:  0.6666666666666666\n"
     ]
    },
    {
     "name": "stderr",
     "output_type": "stream",
     "text": [
      "C:\\Users\\Tobi.Akinyemi\\Anaconda3\\lib\\site-packages\\sklearn\\metrics\\_classification.py:1245: UndefinedMetricWarning: Precision and F-score are ill-defined and being set to 0.0 in labels with no predicted samples. Use `zero_division` parameter to control this behavior.\n",
      "  _warn_prf(average, modifier, msg_start, len(result))\n"
     ]
    },
    {
     "name": "stdout",
     "output_type": "stream",
     "text": [
      "Accuracy:  0.6756756756756757\n"
     ]
    },
    {
     "name": "stderr",
     "output_type": "stream",
     "text": [
      "C:\\Users\\Tobi.Akinyemi\\Anaconda3\\lib\\site-packages\\sklearn\\metrics\\_classification.py:1245: UndefinedMetricWarning: Precision and F-score are ill-defined and being set to 0.0 in labels with no predicted samples. Use `zero_division` parameter to control this behavior.\n",
      "  _warn_prf(average, modifier, msg_start, len(result))\n"
     ]
    },
    {
     "name": "stdout",
     "output_type": "stream",
     "text": [
      "Accuracy:  0.6756756756756757\n"
     ]
    },
    {
     "name": "stderr",
     "output_type": "stream",
     "text": [
      "C:\\Users\\Tobi.Akinyemi\\Anaconda3\\lib\\site-packages\\sklearn\\metrics\\_classification.py:1245: UndefinedMetricWarning: Precision and F-score are ill-defined and being set to 0.0 in labels with no predicted samples. Use `zero_division` parameter to control this behavior.\n",
      "  _warn_prf(average, modifier, msg_start, len(result))\n"
     ]
    },
    {
     "name": "stdout",
     "output_type": "stream",
     "text": [
      "Accuracy:  0.7027027027027027\n"
     ]
    },
    {
     "name": "stderr",
     "output_type": "stream",
     "text": [
      "C:\\Users\\Tobi.Akinyemi\\Anaconda3\\lib\\site-packages\\sklearn\\metrics\\_classification.py:1245: UndefinedMetricWarning: Precision and F-score are ill-defined and being set to 0.0 in labels with no predicted samples. Use `zero_division` parameter to control this behavior.\n",
      "  _warn_prf(average, modifier, msg_start, len(result))\n"
     ]
    },
    {
     "name": "stdout",
     "output_type": "stream",
     "text": [
      "Accuracy:  0.6666666666666666\n"
     ]
    },
    {
     "name": "stderr",
     "output_type": "stream",
     "text": [
      "C:\\Users\\Tobi.Akinyemi\\Anaconda3\\lib\\site-packages\\sklearn\\metrics\\_classification.py:1245: UndefinedMetricWarning: Precision and F-score are ill-defined and being set to 0.0 in labels with no predicted samples. Use `zero_division` parameter to control this behavior.\n",
      "  _warn_prf(average, modifier, msg_start, len(result))\n"
     ]
    },
    {
     "name": "stdout",
     "output_type": "stream",
     "text": [
      "Accuracy:  0.6306306306306306\n"
     ]
    },
    {
     "name": "stderr",
     "output_type": "stream",
     "text": [
      "C:\\Users\\Tobi.Akinyemi\\Anaconda3\\lib\\site-packages\\sklearn\\metrics\\_classification.py:1245: UndefinedMetricWarning: Precision and F-score are ill-defined and being set to 0.0 in labels with no predicted samples. Use `zero_division` parameter to control this behavior.\n",
      "  _warn_prf(average, modifier, msg_start, len(result))\n"
     ]
    },
    {
     "name": "stdout",
     "output_type": "stream",
     "text": [
      "Accuracy:  0.6486486486486487\n"
     ]
    },
    {
     "name": "stderr",
     "output_type": "stream",
     "text": [
      "C:\\Users\\Tobi.Akinyemi\\Anaconda3\\lib\\site-packages\\sklearn\\metrics\\_classification.py:1245: UndefinedMetricWarning: Precision and F-score are ill-defined and being set to 0.0 in labels with no predicted samples. Use `zero_division` parameter to control this behavior.\n",
      "  _warn_prf(average, modifier, msg_start, len(result))\n"
     ]
    },
    {
     "name": "stdout",
     "output_type": "stream",
     "text": [
      "Accuracy:  0.6486486486486487\n"
     ]
    },
    {
     "name": "stderr",
     "output_type": "stream",
     "text": [
      "C:\\Users\\Tobi.Akinyemi\\Anaconda3\\lib\\site-packages\\sklearn\\metrics\\_classification.py:1245: UndefinedMetricWarning: Precision and F-score are ill-defined and being set to 0.0 in labels with no predicted samples. Use `zero_division` parameter to control this behavior.\n",
      "  _warn_prf(average, modifier, msg_start, len(result))\n"
     ]
    },
    {
     "name": "stdout",
     "output_type": "stream",
     "text": [
      "Accuracy:  0.6846846846846847\n"
     ]
    },
    {
     "name": "stderr",
     "output_type": "stream",
     "text": [
      "C:\\Users\\Tobi.Akinyemi\\Anaconda3\\lib\\site-packages\\sklearn\\metrics\\_classification.py:1245: UndefinedMetricWarning: Precision and F-score are ill-defined and being set to 0.0 in labels with no predicted samples. Use `zero_division` parameter to control this behavior.\n",
      "  _warn_prf(average, modifier, msg_start, len(result))\n"
     ]
    },
    {
     "name": "stdout",
     "output_type": "stream",
     "text": [
      "Accuracy:  0.6576576576576577\n"
     ]
    },
    {
     "name": "stderr",
     "output_type": "stream",
     "text": [
      "C:\\Users\\Tobi.Akinyemi\\Anaconda3\\lib\\site-packages\\sklearn\\metrics\\_classification.py:1245: UndefinedMetricWarning: Precision and F-score are ill-defined and being set to 0.0 in labels with no predicted samples. Use `zero_division` parameter to control this behavior.\n",
      "  _warn_prf(average, modifier, msg_start, len(result))\n"
     ]
    },
    {
     "name": "stdout",
     "output_type": "stream",
     "text": [
      "Accuracy:  0.6666666666666666\n"
     ]
    },
    {
     "name": "stderr",
     "output_type": "stream",
     "text": [
      "C:\\Users\\Tobi.Akinyemi\\Anaconda3\\lib\\site-packages\\sklearn\\metrics\\_classification.py:1245: UndefinedMetricWarning: Precision and F-score are ill-defined and being set to 0.0 in labels with no predicted samples. Use `zero_division` parameter to control this behavior.\n",
      "  _warn_prf(average, modifier, msg_start, len(result))\n"
     ]
    },
    {
     "name": "stdout",
     "output_type": "stream",
     "text": [
      "Accuracy:  0.7117117117117117\n"
     ]
    },
    {
     "name": "stderr",
     "output_type": "stream",
     "text": [
      "C:\\Users\\Tobi.Akinyemi\\Anaconda3\\lib\\site-packages\\sklearn\\metrics\\_classification.py:1245: UndefinedMetricWarning: Precision and F-score are ill-defined and being set to 0.0 in labels with no predicted samples. Use `zero_division` parameter to control this behavior.\n",
      "  _warn_prf(average, modifier, msg_start, len(result))\n"
     ]
    },
    {
     "name": "stdout",
     "output_type": "stream",
     "text": [
      "Accuracy:  0.6936936936936937\n"
     ]
    },
    {
     "name": "stderr",
     "output_type": "stream",
     "text": [
      "C:\\Users\\Tobi.Akinyemi\\Anaconda3\\lib\\site-packages\\sklearn\\metrics\\_classification.py:1245: UndefinedMetricWarning: Precision and F-score are ill-defined and being set to 0.0 in labels with no predicted samples. Use `zero_division` parameter to control this behavior.\n",
      "  _warn_prf(average, modifier, msg_start, len(result))\n"
     ]
    },
    {
     "name": "stdout",
     "output_type": "stream",
     "text": [
      "Accuracy:  0.6846846846846847\n"
     ]
    },
    {
     "name": "stderr",
     "output_type": "stream",
     "text": [
      "C:\\Users\\Tobi.Akinyemi\\Anaconda3\\lib\\site-packages\\sklearn\\metrics\\_classification.py:1245: UndefinedMetricWarning: Precision and F-score are ill-defined and being set to 0.0 in labels with no predicted samples. Use `zero_division` parameter to control this behavior.\n",
      "  _warn_prf(average, modifier, msg_start, len(result))\n"
     ]
    },
    {
     "name": "stdout",
     "output_type": "stream",
     "text": [
      "Accuracy:  0.6486486486486487\n"
     ]
    },
    {
     "name": "stderr",
     "output_type": "stream",
     "text": [
      "C:\\Users\\Tobi.Akinyemi\\Anaconda3\\lib\\site-packages\\sklearn\\metrics\\_classification.py:1245: UndefinedMetricWarning: Precision and F-score are ill-defined and being set to 0.0 in labels with no predicted samples. Use `zero_division` parameter to control this behavior.\n",
      "  _warn_prf(average, modifier, msg_start, len(result))\n"
     ]
    },
    {
     "name": "stdout",
     "output_type": "stream",
     "text": [
      "Accuracy:  0.6576576576576577\n"
     ]
    },
    {
     "name": "stderr",
     "output_type": "stream",
     "text": [
      "C:\\Users\\Tobi.Akinyemi\\Anaconda3\\lib\\site-packages\\sklearn\\metrics\\_classification.py:1245: UndefinedMetricWarning: Precision and F-score are ill-defined and being set to 0.0 in labels with no predicted samples. Use `zero_division` parameter to control this behavior.\n",
      "  _warn_prf(average, modifier, msg_start, len(result))\n"
     ]
    },
    {
     "name": "stdout",
     "output_type": "stream",
     "text": [
      "Accuracy:  0.6666666666666666\n"
     ]
    },
    {
     "name": "stderr",
     "output_type": "stream",
     "text": [
      "C:\\Users\\Tobi.Akinyemi\\Anaconda3\\lib\\site-packages\\sklearn\\metrics\\_classification.py:1245: UndefinedMetricWarning: Precision and F-score are ill-defined and being set to 0.0 in labels with no predicted samples. Use `zero_division` parameter to control this behavior.\n",
      "  _warn_prf(average, modifier, msg_start, len(result))\n"
     ]
    },
    {
     "name": "stdout",
     "output_type": "stream",
     "text": [
      "Accuracy:  0.6306306306306306\n"
     ]
    },
    {
     "name": "stderr",
     "output_type": "stream",
     "text": [
      "C:\\Users\\Tobi.Akinyemi\\Anaconda3\\lib\\site-packages\\sklearn\\metrics\\_classification.py:1245: UndefinedMetricWarning: Precision and F-score are ill-defined and being set to 0.0 in labels with no predicted samples. Use `zero_division` parameter to control this behavior.\n",
      "  _warn_prf(average, modifier, msg_start, len(result))\n"
     ]
    },
    {
     "name": "stdout",
     "output_type": "stream",
     "text": [
      "Accuracy:  0.6576576576576577\n"
     ]
    },
    {
     "name": "stderr",
     "output_type": "stream",
     "text": [
      "C:\\Users\\Tobi.Akinyemi\\Anaconda3\\lib\\site-packages\\sklearn\\metrics\\_classification.py:1245: UndefinedMetricWarning: Precision and F-score are ill-defined and being set to 0.0 in labels with no predicted samples. Use `zero_division` parameter to control this behavior.\n",
      "  _warn_prf(average, modifier, msg_start, len(result))\n"
     ]
    },
    {
     "name": "stdout",
     "output_type": "stream",
     "text": [
      "Accuracy:  0.6576576576576577\n"
     ]
    },
    {
     "name": "stderr",
     "output_type": "stream",
     "text": [
      "C:\\Users\\Tobi.Akinyemi\\Anaconda3\\lib\\site-packages\\sklearn\\metrics\\_classification.py:1245: UndefinedMetricWarning: Precision and F-score are ill-defined and being set to 0.0 in labels with no predicted samples. Use `zero_division` parameter to control this behavior.\n",
      "  _warn_prf(average, modifier, msg_start, len(result))\n"
     ]
    },
    {
     "name": "stdout",
     "output_type": "stream",
     "text": [
      "Accuracy:  0.6576576576576577\n"
     ]
    },
    {
     "name": "stderr",
     "output_type": "stream",
     "text": [
      "C:\\Users\\Tobi.Akinyemi\\Anaconda3\\lib\\site-packages\\sklearn\\metrics\\_classification.py:1245: UndefinedMetricWarning: Precision and F-score are ill-defined and being set to 0.0 in labels with no predicted samples. Use `zero_division` parameter to control this behavior.\n",
      "  _warn_prf(average, modifier, msg_start, len(result))\n"
     ]
    },
    {
     "name": "stdout",
     "output_type": "stream",
     "text": [
      "Accuracy:  0.6666666666666666\n"
     ]
    },
    {
     "name": "stderr",
     "output_type": "stream",
     "text": [
      "C:\\Users\\Tobi.Akinyemi\\Anaconda3\\lib\\site-packages\\sklearn\\metrics\\_classification.py:1245: UndefinedMetricWarning: Precision and F-score are ill-defined and being set to 0.0 in labels with no predicted samples. Use `zero_division` parameter to control this behavior.\n",
      "  _warn_prf(average, modifier, msg_start, len(result))\n"
     ]
    },
    {
     "name": "stdout",
     "output_type": "stream",
     "text": [
      "Accuracy:  0.6666666666666666\n"
     ]
    },
    {
     "name": "stderr",
     "output_type": "stream",
     "text": [
      "C:\\Users\\Tobi.Akinyemi\\Anaconda3\\lib\\site-packages\\sklearn\\metrics\\_classification.py:1245: UndefinedMetricWarning: Precision and F-score are ill-defined and being set to 0.0 in labels with no predicted samples. Use `zero_division` parameter to control this behavior.\n",
      "  _warn_prf(average, modifier, msg_start, len(result))\n"
     ]
    },
    {
     "name": "stdout",
     "output_type": "stream",
     "text": [
      "Accuracy:  0.6936936936936937\n"
     ]
    },
    {
     "name": "stderr",
     "output_type": "stream",
     "text": [
      "C:\\Users\\Tobi.Akinyemi\\Anaconda3\\lib\\site-packages\\sklearn\\metrics\\_classification.py:1245: UndefinedMetricWarning: Precision and F-score are ill-defined and being set to 0.0 in labels with no predicted samples. Use `zero_division` parameter to control this behavior.\n",
      "  _warn_prf(average, modifier, msg_start, len(result))\n"
     ]
    },
    {
     "name": "stdout",
     "output_type": "stream",
     "text": [
      "Accuracy:  0.6666666666666666\n"
     ]
    },
    {
     "name": "stderr",
     "output_type": "stream",
     "text": [
      "C:\\Users\\Tobi.Akinyemi\\Anaconda3\\lib\\site-packages\\sklearn\\metrics\\_classification.py:1245: UndefinedMetricWarning: Precision and F-score are ill-defined and being set to 0.0 in labels with no predicted samples. Use `zero_division` parameter to control this behavior.\n",
      "  _warn_prf(average, modifier, msg_start, len(result))\n"
     ]
    },
    {
     "name": "stdout",
     "output_type": "stream",
     "text": [
      "Accuracy:  0.6666666666666666\n"
     ]
    },
    {
     "name": "stderr",
     "output_type": "stream",
     "text": [
      "C:\\Users\\Tobi.Akinyemi\\Anaconda3\\lib\\site-packages\\sklearn\\metrics\\_classification.py:1245: UndefinedMetricWarning: Precision and F-score are ill-defined and being set to 0.0 in labels with no predicted samples. Use `zero_division` parameter to control this behavior.\n",
      "  _warn_prf(average, modifier, msg_start, len(result))\n"
     ]
    },
    {
     "name": "stdout",
     "output_type": "stream",
     "text": [
      "Accuracy:  0.6576576576576577\n"
     ]
    },
    {
     "name": "stderr",
     "output_type": "stream",
     "text": [
      "C:\\Users\\Tobi.Akinyemi\\Anaconda3\\lib\\site-packages\\sklearn\\metrics\\_classification.py:1245: UndefinedMetricWarning: Precision and F-score are ill-defined and being set to 0.0 in labels with no predicted samples. Use `zero_division` parameter to control this behavior.\n",
      "  _warn_prf(average, modifier, msg_start, len(result))\n"
     ]
    },
    {
     "name": "stdout",
     "output_type": "stream",
     "text": [
      "Accuracy:  0.7027027027027027\n"
     ]
    },
    {
     "name": "stderr",
     "output_type": "stream",
     "text": [
      "C:\\Users\\Tobi.Akinyemi\\Anaconda3\\lib\\site-packages\\sklearn\\metrics\\_classification.py:1245: UndefinedMetricWarning: Precision and F-score are ill-defined and being set to 0.0 in labels with no predicted samples. Use `zero_division` parameter to control this behavior.\n",
      "  _warn_prf(average, modifier, msg_start, len(result))\n"
     ]
    },
    {
     "name": "stdout",
     "output_type": "stream",
     "text": [
      "Accuracy:  0.6666666666666666\n"
     ]
    },
    {
     "name": "stderr",
     "output_type": "stream",
     "text": [
      "C:\\Users\\Tobi.Akinyemi\\Anaconda3\\lib\\site-packages\\sklearn\\metrics\\_classification.py:1245: UndefinedMetricWarning: Precision and F-score are ill-defined and being set to 0.0 in labels with no predicted samples. Use `zero_division` parameter to control this behavior.\n",
      "  _warn_prf(average, modifier, msg_start, len(result))\n"
     ]
    },
    {
     "name": "stdout",
     "output_type": "stream",
     "text": [
      "Accuracy:  0.6576576576576577\n"
     ]
    },
    {
     "name": "stderr",
     "output_type": "stream",
     "text": [
      "C:\\Users\\Tobi.Akinyemi\\Anaconda3\\lib\\site-packages\\sklearn\\metrics\\_classification.py:1245: UndefinedMetricWarning: Precision and F-score are ill-defined and being set to 0.0 in labels with no predicted samples. Use `zero_division` parameter to control this behavior.\n",
      "  _warn_prf(average, modifier, msg_start, len(result))\n"
     ]
    },
    {
     "name": "stdout",
     "output_type": "stream",
     "text": [
      "Accuracy:  0.6846846846846847\n"
     ]
    },
    {
     "name": "stderr",
     "output_type": "stream",
     "text": [
      "C:\\Users\\Tobi.Akinyemi\\Anaconda3\\lib\\site-packages\\sklearn\\metrics\\_classification.py:1245: UndefinedMetricWarning: Precision and F-score are ill-defined and being set to 0.0 in labels with no predicted samples. Use `zero_division` parameter to control this behavior.\n",
      "  _warn_prf(average, modifier, msg_start, len(result))\n"
     ]
    },
    {
     "name": "stdout",
     "output_type": "stream",
     "text": [
      "Accuracy:  0.6666666666666666\n"
     ]
    },
    {
     "name": "stderr",
     "output_type": "stream",
     "text": [
      "C:\\Users\\Tobi.Akinyemi\\Anaconda3\\lib\\site-packages\\sklearn\\metrics\\_classification.py:1245: UndefinedMetricWarning: Precision and F-score are ill-defined and being set to 0.0 in labels with no predicted samples. Use `zero_division` parameter to control this behavior.\n",
      "  _warn_prf(average, modifier, msg_start, len(result))\n"
     ]
    },
    {
     "name": "stdout",
     "output_type": "stream",
     "text": [
      "Accuracy:  0.6666666666666666\n"
     ]
    },
    {
     "name": "stderr",
     "output_type": "stream",
     "text": [
      "C:\\Users\\Tobi.Akinyemi\\Anaconda3\\lib\\site-packages\\sklearn\\metrics\\_classification.py:1245: UndefinedMetricWarning: Precision and F-score are ill-defined and being set to 0.0 in labels with no predicted samples. Use `zero_division` parameter to control this behavior.\n",
      "  _warn_prf(average, modifier, msg_start, len(result))\n"
     ]
    },
    {
     "name": "stdout",
     "output_type": "stream",
     "text": [
      "Accuracy:  0.6576576576576577\n"
     ]
    },
    {
     "name": "stderr",
     "output_type": "stream",
     "text": [
      "C:\\Users\\Tobi.Akinyemi\\Anaconda3\\lib\\site-packages\\sklearn\\metrics\\_classification.py:1245: UndefinedMetricWarning: Precision and F-score are ill-defined and being set to 0.0 in labels with no predicted samples. Use `zero_division` parameter to control this behavior.\n",
      "  _warn_prf(average, modifier, msg_start, len(result))\n"
     ]
    },
    {
     "name": "stdout",
     "output_type": "stream",
     "text": [
      "Accuracy:  0.6576576576576577\n"
     ]
    },
    {
     "name": "stderr",
     "output_type": "stream",
     "text": [
      "C:\\Users\\Tobi.Akinyemi\\Anaconda3\\lib\\site-packages\\sklearn\\metrics\\_classification.py:1245: UndefinedMetricWarning: Precision and F-score are ill-defined and being set to 0.0 in labels with no predicted samples. Use `zero_division` parameter to control this behavior.\n",
      "  _warn_prf(average, modifier, msg_start, len(result))\n"
     ]
    },
    {
     "name": "stdout",
     "output_type": "stream",
     "text": [
      "Accuracy:  0.6936936936936937\n"
     ]
    },
    {
     "name": "stderr",
     "output_type": "stream",
     "text": [
      "C:\\Users\\Tobi.Akinyemi\\Anaconda3\\lib\\site-packages\\sklearn\\metrics\\_classification.py:1245: UndefinedMetricWarning: Precision and F-score are ill-defined and being set to 0.0 in labels with no predicted samples. Use `zero_division` parameter to control this behavior.\n",
      "  _warn_prf(average, modifier, msg_start, len(result))\n"
     ]
    },
    {
     "name": "stdout",
     "output_type": "stream",
     "text": [
      "Accuracy:  0.6846846846846847\n"
     ]
    },
    {
     "name": "stderr",
     "output_type": "stream",
     "text": [
      "C:\\Users\\Tobi.Akinyemi\\Anaconda3\\lib\\site-packages\\sklearn\\metrics\\_classification.py:1245: UndefinedMetricWarning: Precision and F-score are ill-defined and being set to 0.0 in labels with no predicted samples. Use `zero_division` parameter to control this behavior.\n",
      "  _warn_prf(average, modifier, msg_start, len(result))\n"
     ]
    },
    {
     "name": "stdout",
     "output_type": "stream",
     "text": [
      "Accuracy:  0.7027027027027027\n"
     ]
    },
    {
     "name": "stderr",
     "output_type": "stream",
     "text": [
      "C:\\Users\\Tobi.Akinyemi\\Anaconda3\\lib\\site-packages\\sklearn\\metrics\\_classification.py:1245: UndefinedMetricWarning: Precision and F-score are ill-defined and being set to 0.0 in labels with no predicted samples. Use `zero_division` parameter to control this behavior.\n",
      "  _warn_prf(average, modifier, msg_start, len(result))\n"
     ]
    },
    {
     "name": "stdout",
     "output_type": "stream",
     "text": [
      "Accuracy:  0.6576576576576577\n",
      "Accuracy:  0.6756756756756757\n"
     ]
    },
    {
     "name": "stderr",
     "output_type": "stream",
     "text": [
      "C:\\Users\\Tobi.Akinyemi\\Anaconda3\\lib\\site-packages\\sklearn\\metrics\\_classification.py:1245: UndefinedMetricWarning: Precision and F-score are ill-defined and being set to 0.0 in labels with no predicted samples. Use `zero_division` parameter to control this behavior.\n",
      "  _warn_prf(average, modifier, msg_start, len(result))\n"
     ]
    }
   ],
   "source": [
    "for est in [50,100,150]:\n",
    "        for depth in [3,7,11,15,100]:\n",
    "            for lr in [0.01, 0.1, 1]:\n",
    "                train_gb(est, depth, lr)"
   ]
  },
  {
   "cell_type": "code",
   "execution_count": 653,
   "id": "da0b6412",
   "metadata": {},
   "outputs": [
    {
     "name": "stderr",
     "output_type": "stream",
     "text": [
      "C:\\Users\\Tobi.Akinyemi\\Anaconda3\\lib\\site-packages\\sklearn\\model_selection\\_split.py:666: UserWarning: The least populated class in y has only 1 members, which is less than n_splits=5.\n",
      "  warnings.warn((\"The least populated class in y has only %d\"\n"
     ]
    },
    {
     "data": {
      "text/html": [
       "<div>\n",
       "<style scoped>\n",
       "    .dataframe tbody tr th:only-of-type {\n",
       "        vertical-align: middle;\n",
       "    }\n",
       "\n",
       "    .dataframe tbody tr th {\n",
       "        vertical-align: top;\n",
       "    }\n",
       "\n",
       "    .dataframe thead th {\n",
       "        text-align: right;\n",
       "    }\n",
       "</style>\n",
       "<table border=\"1\" class=\"dataframe\">\n",
       "  <thead>\n",
       "    <tr style=\"text-align: right;\">\n",
       "      <th></th>\n",
       "      <th>mean_fit_time</th>\n",
       "      <th>std_fit_time</th>\n",
       "      <th>mean_score_time</th>\n",
       "      <th>std_score_time</th>\n",
       "      <th>param_learning_rate</th>\n",
       "      <th>param_max_depth</th>\n",
       "      <th>param_n_estimators</th>\n",
       "      <th>params</th>\n",
       "      <th>split0_test_score</th>\n",
       "      <th>split1_test_score</th>\n",
       "      <th>split2_test_score</th>\n",
       "      <th>split3_test_score</th>\n",
       "      <th>split4_test_score</th>\n",
       "      <th>mean_test_score</th>\n",
       "      <th>std_test_score</th>\n",
       "      <th>rank_test_score</th>\n",
       "    </tr>\n",
       "  </thead>\n",
       "  <tbody>\n",
       "    <tr>\n",
       "      <th>5</th>\n",
       "      <td>67.086572</td>\n",
       "      <td>3.652062</td>\n",
       "      <td>0.114376</td>\n",
       "      <td>0.023191</td>\n",
       "      <td>0.1</td>\n",
       "      <td>15</td>\n",
       "      <td>150</td>\n",
       "      <td>{'learning_rate': 0.1, 'max_depth': 15, 'n_est...</td>\n",
       "      <td>0.675676</td>\n",
       "      <td>0.657658</td>\n",
       "      <td>0.754545</td>\n",
       "      <td>0.700000</td>\n",
       "      <td>0.700000</td>\n",
       "      <td>0.697576</td>\n",
       "      <td>0.032651</td>\n",
       "      <td>1</td>\n",
       "    </tr>\n",
       "    <tr>\n",
       "      <th>1</th>\n",
       "      <td>39.934796</td>\n",
       "      <td>1.949495</td>\n",
       "      <td>0.085330</td>\n",
       "      <td>0.013572</td>\n",
       "      <td>0.1</td>\n",
       "      <td>7</td>\n",
       "      <td>150</td>\n",
       "      <td>{'learning_rate': 0.1, 'max_depth': 7, 'n_esti...</td>\n",
       "      <td>0.675676</td>\n",
       "      <td>0.684685</td>\n",
       "      <td>0.754545</td>\n",
       "      <td>0.709091</td>\n",
       "      <td>0.663636</td>\n",
       "      <td>0.697527</td>\n",
       "      <td>0.032174</td>\n",
       "      <td>2</td>\n",
       "    </tr>\n",
       "    <tr>\n",
       "      <th>0</th>\n",
       "      <td>26.749091</td>\n",
       "      <td>0.561173</td>\n",
       "      <td>0.047418</td>\n",
       "      <td>0.008848</td>\n",
       "      <td>0.1</td>\n",
       "      <td>7</td>\n",
       "      <td>100</td>\n",
       "      <td>{'learning_rate': 0.1, 'max_depth': 7, 'n_esti...</td>\n",
       "      <td>0.630631</td>\n",
       "      <td>0.693694</td>\n",
       "      <td>0.754545</td>\n",
       "      <td>0.709091</td>\n",
       "      <td>0.672727</td>\n",
       "      <td>0.692138</td>\n",
       "      <td>0.040852</td>\n",
       "      <td>3</td>\n",
       "    </tr>\n",
       "    <tr>\n",
       "      <th>3</th>\n",
       "      <td>65.421699</td>\n",
       "      <td>3.382540</td>\n",
       "      <td>0.194507</td>\n",
       "      <td>0.051980</td>\n",
       "      <td>0.1</td>\n",
       "      <td>11</td>\n",
       "      <td>150</td>\n",
       "      <td>{'learning_rate': 0.1, 'max_depth': 11, 'n_est...</td>\n",
       "      <td>0.639640</td>\n",
       "      <td>0.693694</td>\n",
       "      <td>0.736364</td>\n",
       "      <td>0.700000</td>\n",
       "      <td>0.681818</td>\n",
       "      <td>0.690303</td>\n",
       "      <td>0.031196</td>\n",
       "      <td>4</td>\n",
       "    </tr>\n",
       "    <tr>\n",
       "      <th>2</th>\n",
       "      <td>36.009320</td>\n",
       "      <td>2.006015</td>\n",
       "      <td>0.097799</td>\n",
       "      <td>0.018235</td>\n",
       "      <td>0.1</td>\n",
       "      <td>11</td>\n",
       "      <td>100</td>\n",
       "      <td>{'learning_rate': 0.1, 'max_depth': 11, 'n_est...</td>\n",
       "      <td>0.657658</td>\n",
       "      <td>0.693694</td>\n",
       "      <td>0.745455</td>\n",
       "      <td>0.672727</td>\n",
       "      <td>0.681818</td>\n",
       "      <td>0.690270</td>\n",
       "      <td>0.029999</td>\n",
       "      <td>5</td>\n",
       "    </tr>\n",
       "  </tbody>\n",
       "</table>\n",
       "</div>"
      ],
      "text/plain": [
       "   mean_fit_time  std_fit_time  mean_score_time  std_score_time  \\\n",
       "5      67.086572      3.652062         0.114376        0.023191   \n",
       "1      39.934796      1.949495         0.085330        0.013572   \n",
       "0      26.749091      0.561173         0.047418        0.008848   \n",
       "3      65.421699      3.382540         0.194507        0.051980   \n",
       "2      36.009320      2.006015         0.097799        0.018235   \n",
       "\n",
       "  param_learning_rate param_max_depth param_n_estimators  \\\n",
       "5                 0.1              15                150   \n",
       "1                 0.1               7                150   \n",
       "0                 0.1               7                100   \n",
       "3                 0.1              11                150   \n",
       "2                 0.1              11                100   \n",
       "\n",
       "                                              params  split0_test_score  \\\n",
       "5  {'learning_rate': 0.1, 'max_depth': 15, 'n_est...           0.675676   \n",
       "1  {'learning_rate': 0.1, 'max_depth': 7, 'n_esti...           0.675676   \n",
       "0  {'learning_rate': 0.1, 'max_depth': 7, 'n_esti...           0.630631   \n",
       "3  {'learning_rate': 0.1, 'max_depth': 11, 'n_est...           0.639640   \n",
       "2  {'learning_rate': 0.1, 'max_depth': 11, 'n_est...           0.657658   \n",
       "\n",
       "   split1_test_score  split2_test_score  split3_test_score  split4_test_score  \\\n",
       "5           0.657658           0.754545           0.700000           0.700000   \n",
       "1           0.684685           0.754545           0.709091           0.663636   \n",
       "0           0.693694           0.754545           0.709091           0.672727   \n",
       "3           0.693694           0.736364           0.700000           0.681818   \n",
       "2           0.693694           0.745455           0.672727           0.681818   \n",
       "\n",
       "   mean_test_score  std_test_score  rank_test_score  \n",
       "5         0.697576        0.032651                1  \n",
       "1         0.697527        0.032174                2  \n",
       "0         0.692138        0.040852                3  \n",
       "3         0.690303        0.031196                4  \n",
       "2         0.690270        0.029999                5  "
      ]
     },
     "execution_count": 653,
     "metadata": {},
     "output_type": "execute_result"
    }
   ],
   "source": [
    "from sklearn.model_selection import GridSearchCV\n",
    "gb = GradientBoostingClassifier()\n",
    "param = {\n",
    "    'n_estimators':[100,150],\n",
    "    'max_depth': [7,11,15],\n",
    "    'learning_rate': [0.1]\n",
    "}\n",
    "gs = GridSearchCV(gb, param, cv=5, n_jobs=-1)\n",
    "cv_fit = gs.fit(x_tfidf, fullCorpus['label'])\n",
    "pd.DataFrame(cv_fit.cv_results_).sort_values(\"mean_test_score\", ascending=False)[0:5]"
   ]
  },
  {
   "cell_type": "code",
   "execution_count": 25,
   "id": "0fdf5bd0",
   "metadata": {},
   "outputs": [
    {
     "name": "stdout",
     "output_type": "stream",
     "text": [
      "Input has 552 rows and 2 columns\n",
      "There are 30 labels [{'Teams', 31}, {'Phishing', 41}, {'Junk', 6}, {4, 'Concur'}, {'Pheonix', 6}, {1, 'Intune'}, {'Bitlocker', 52}, {5, 'SuccessFactors'}, {67, 'Password'}, {'Other', 6}, {'Hardware', 38}, {'TAS', 7}, {8, 'AD'}, {'O365', 15}, {40, 'SAP'}, {'Network', 22}, {'CAP', 6}, {18, 'Xtel'}, {9, 'Mobile'}, {'Drives', 34}, {8, 'SalesForce'}, {'Sharepoint', 10}, {1, 'Security'}, {21, 'VPN'}, {'Printer', 15}, {'Outlook', 22}, {'Intranet', 17}, {'MFA', 7}, {32, 'Software'}, {3, 'BI'}]\n"
     ]
    },
    {
     "name": "stderr",
     "output_type": "stream",
     "text": [
      "C:\\Users\\Tobi.Akinyemi\\Anaconda3\\lib\\site-packages\\sklearn\\metrics\\_classification.py:1245: UndefinedMetricWarning: Precision and F-score are ill-defined and being set to 0.0 in labels with no predicted samples. Use `zero_division` parameter to control this behavior.\n",
      "  _warn_prf(average, modifier, msg_start, len(result))\n",
      "C:\\Users\\Tobi.Akinyemi\\Anaconda3\\lib\\site-packages\\sklearn\\metrics\\_classification.py:1245: UndefinedMetricWarning: Recall and F-score are ill-defined and being set to 0.0 in labels with no true samples. Use `zero_division` parameter to control this behavior.\n",
      "  _warn_prf(average, modifier, msg_start, len(result))\n"
     ]
    },
    {
     "name": "stdout",
     "output_type": "stream",
     "text": [
      "0.8035714285714286\n",
      "['Hardware' 'Software' 'Concur' 'Concur' 'Software' 'Network' 'Software'\n",
      " 'Teams' 'Software' 'Teams' 'Software' 'Software' 'Software' 'Software'\n",
      " 'Password' 'Teams' 'Xtel' 'Printer' 'Teams' 'Concur' 'Software'\n",
      " 'Bitlocker' 'Software' 'Software' 'Software' 'Software' 'Software' 'VPN'\n",
      " 'Outlook' 'Software' 'Software' 'Bitlocker' 'SalesForce' 'BI' 'Software'\n",
      " 'Software' 'Software' 'Network' 'Network' 'Software' 'Software'\n",
      " 'Intranet' 'Software' 'Software' 'Software' 'Software' 'Hardware'\n",
      " 'Software' 'Bitlocker' 'Teams' 'Software' 'Junk' 'Software' 'Software'\n",
      " 'Software' 'Concur' 'Software' 'Software' 'Network' 'Software'\n",
      " 'Bitlocker' 'SalesForce' 'Software' 'Network' 'Teams' 'O365' 'Software'\n",
      " 'Outlook' 'Drives' 'SalesForce' 'Software' 'Password' 'Xtel' 'VPN'\n",
      " 'Software' 'Software' 'Software' 'Software' 'Teams' 'Software' 'VPN'\n",
      " 'Outlook' 'Software' 'SAP' 'VPN' 'Software' 'Teams' 'Network' 'Teams'\n",
      " 'Software' 'Software' 'Software' 'Network' 'Software' 'Bitlocker' 'Teams'\n",
      " 'Software' 'Network' 'Software' 'Software' 'Software' 'Teams' 'Software'\n",
      " 'Software' 'Concur' 'Bitlocker' 'Teams' 'Software' 'Bitlocker' 'Software'\n",
      " 'TAS' 'VPN' 'Software' 'Bitlocker' 'Software' 'Software' 'Network'\n",
      " 'Network' 'Network' 'Software' 'Concur' 'Software' 'Software' 'Software'\n",
      " 'Software' 'Bitlocker' 'Teams' 'Bitlocker' 'Software' 'Software' 'Teams'\n",
      " 'Outlook' 'Password' 'Software' 'Software' 'Software' 'Teams' 'Teams'\n",
      " 'Software' 'Software' 'Software' 'Drives' 'Bitlocker' 'Software' 'Teams'\n",
      " 'Software' 'Software' 'Software' 'Software' 'Software' 'Software'\n",
      " 'Software' 'Software' 'Software' 'Software' 'Drives' 'Software' 'Teams'\n",
      " 'Software' 'Software' 'VPN' 'Concur' 'Junk' 'Password' 'Software'\n",
      " 'Software' 'Software' 'VPN' 'Software' 'Bitlocker' 'Other' 'SalesForce'\n",
      " 'Software' 'Software' 'Printer' 'Bitlocker' 'Software' 'Software'\n",
      " 'Software' 'Software' 'Software' 'Network' 'VPN' 'Pheonix' 'Software'\n",
      " 'Software' 'CAP' 'Software' 'Bitlocker' 'Software' 'Software' 'Network'\n",
      " 'Bitlocker' 'SalesForce' 'Software' 'Network' 'SalesForce' 'Software'\n",
      " 'Concur' 'Teams' 'Software' 'SuccessFactors' 'Network' 'Software'\n",
      " 'Bitlocker' 'SAP' 'Software' 'Software' 'Software' 'Software' 'Software'\n",
      " 'Software' 'Concur' 'Software' 'Concur' 'Software' 'Teams' 'Xtel'\n",
      " 'Concur']\n",
      "                                             desc_text\n",
      "0          Error when accessing Magento on office WIFI\n",
      "1                        Machine Reg - PDF Doc Editing\n",
      "2            Bitlocker - Recovey Key - Unable to login\n",
      "3            Bitlocker - Recovey Key - Unable to login\n",
      "4               Rehire account is still disbaled in AD\n",
      "..                                                 ...\n",
      "214          Bitlocker - Recovey Key - Unable to login\n",
      "215  CAP Phone Account No Longer Associated with Co...\n",
      "216  There is a subfolder in the PayrollUK@JDECoffe...\n",
      "217  [RTL] Cannot run KE30 report in SAP for Januar...\n",
      "218          Bitlocker - Recovey Key - Unable to login\n",
      "\n",
      "[219 rows x 1 columns]\n"
     ]
    }
   ],
   "source": [
    "from nltk.corpus import stopwords\n",
    "from sklearn.ensemble import RandomForestClassifier\n",
    "from sklearn.feature_extraction.text import TfidfVectorizer\n",
    "from sklearn.metrics import precision_recall_fscore_support as score\n",
    "from sklearn.model_selection import train_test_split\n",
    "import pandas as pd\n",
    "import joblib\n",
    "import numpy as np\n",
    "import nltk\n",
    "import re\n",
    "import string\n",
    "\n",
    "#import incident file\n",
    "file = pd.read_csv('incidents.csv')\n",
    "#reason codes are labels for data, whilst descriptions are the inputs\n",
    "labelList = list(file['reason_code'])\n",
    "\n",
    "descList = list(file['short_description'])\n",
    "\n",
    "#Data Frame for full text documents with labels\n",
    "fullCorpus = pd.DataFrame({\n",
    "    'label' : labelList,\n",
    "    'desc_text' : descList\n",
    "})\n",
    "\n",
    "#Shape of the dataset\n",
    "print(\"Input has {} rows and {} columns\". format(len(fullCorpus), len(fullCorpus.columns)))\n",
    "\n",
    "#number of labels in dataset and their distribution\n",
    "labels = list({i for i in labelList})\n",
    "print(\"There are {} labels\".format(len(labels)),[{i, labelList.count(i)} for i in labels])\n",
    "\n",
    "\n",
    "stop_words = stopwords.words(\"english\")\n",
    "ps = nltk.PorterStemmer()\n",
    "wn = nltk.WordNetLemmatizer() \n",
    "\n",
    "def clean_text(text):\n",
    "    #remove punctuation \n",
    "    text = \"\".join([char for char in text if char not in string.punctuation])\n",
    "    # Tokenization of the words\n",
    "    tokens = re.split('\\W+', text)\n",
    "    #remove stopwords and lemmatized\n",
    "    cleaned_text = [wn.lemmatize(i) for i in tokens if i not in stop_words]\n",
    "    #stem the words\n",
    "    #stemmed_text = [ps.stem(word) for word in cleaned_text]\n",
    "    #lemmitize the words\n",
    "    #lemmitized_text = [wn.lemmatize(word) for word in cleaned_text]\n",
    "    return cleaned_text\n",
    "\n",
    "\n",
    "#Vectorize the text so that feature vectors can be created -> numerical features.\n",
    "#using TF - IDF\n",
    "tfidf_vect = TfidfVectorizer(analyzer=clean_text)\n",
    "x_tfidf = tfidf_vect.fit_transform(fullCorpus[\"desc_text\"])\n",
    "#print(x_tfidf.shape)\n",
    "#print(tfidf_vect.get_feature_names())\n",
    "\n",
    "#X_features = pd.concat([fullCorpus['text_length'], fullCorpus['punct_count'],pd.DataFrame(x_tfidf.toarray())], axis=1)\n",
    "X_features = pd.DataFrame(x_tfidf.toarray())\n",
    "x_train, x_test, y_train, y_test  = train_test_split(X_features, fullCorpus[\"label\"], test_size=0.1)\n",
    "rf=RandomForestClassifier(n_estimators=150, max_depth=None, n_jobs=-1)\n",
    "rf_model = rf.fit(x_train, y_train)\n",
    "\n",
    "\n",
    "\n",
    "y_pred = rf_model.predict(x_test)\n",
    "precision, recall, fscore, support = score(y_test,y_pred)\n",
    "accuracy = (y_pred == y_test).sum()/len(y_pred)\n",
    "print(accuracy)\n",
    "        \n",
    "\n",
    "def use_model(test_file):\n",
    "    #rf_model = joblib.load(\"models.pkl\")\n",
    "    #import incident file\n",
    "    file = pd.read_csv(test_file)   \n",
    "    \n",
    "    descList = list(file['short_description'])\n",
    "\n",
    "    #Data Frame for full text documents with labels\n",
    "    testCorpus = pd.DataFrame({\n",
    "        'desc_text' : descList\n",
    "    })\n",
    "    tfidf_vect = TfidfVectorizer(analyzer=clean_text)\n",
    "    x_tfidf = tfidf_vect.fit_transform(testCorpus[\"desc_text\"])\n",
    "    X2_features = pd.DataFrame(x_tfidf.toarray())\n",
    "    for column in X_features.columns:\n",
    "        if column not in X2_features.columns:\n",
    "            X2_features[column] = 0\n",
    "    #print(X_features)\n",
    "    y_pred = rf_model.predict(X2_features)\n",
    "    print(y_pred)\n",
    "    print(testCorpus)\n",
    "use_model(\"test_incidents.csv\")"
   ]
  },
  {
   "cell_type": "code",
   "execution_count": 4,
   "id": "be9bfd1a",
   "metadata": {},
   "outputs": [
    {
     "name": "stdout",
     "output_type": "stream",
     "text": [
      "Accuracy: 0.8596491228070176\n",
      "['Network' 'Software' 'Bitlocker' 'Bitlocker' 'Software' 'Hardware'\n",
      " 'Intranet' 'Drives' 'Software' 'Sharepoint' 'Sharepoint' 'Sharepoint'\n",
      " 'Sharepoint' 'Hardware' 'Intranet' 'Sharepoint' 'Sharepoint' 'Intranet'\n",
      " 'Drives' 'Bitlocker' 'VPN' 'Sharepoint' 'Printer' 'Xtel' 'Bitlocker'\n",
      " 'Phishing' 'Password' 'Printer' 'Drives' 'SAP' 'Intranet' 'IT' 'SAP'\n",
      " 'Xtel' 'Intranet' 'SAP' 'VPN' 'Password' 'Sharepoint' 'Software'\n",
      " 'Sharepoint' 'SalesForce' 'SAP' 'O365' 'SAP' 'Hardware' 'Software' 'BI'\n",
      " 'Software' 'Drives' 'Software' 'Sharepoint' 'SAP' 'SAP' 'TAS' 'Bitlocker'\n",
      " 'Printer' 'Bitlocker' 'MFA' 'Hardware' 'Xtel' 'SAP' 'Intranet' 'Password'\n",
      " 'Drives' 'Drives' 'Hardware' 'Teams' 'Hardware' 'SalesForce' 'Drives'\n",
      " 'Software' 'Xtel' 'Intune' 'Bitlocker' 'Phishing' 'Phishing' 'Outlook'\n",
      " 'Drives' 'Junk' 'Printer' 'Printer' 'Hardware' 'Outlook' 'Printer'\n",
      " 'Software' 'Drives' 'Hardware' 'Drives' 'Xtel' 'Pheonix' 'SAP' 'SAP'\n",
      " 'Phishing' 'Password' 'Drives' 'Sharepoint' 'Software' 'Software'\n",
      " 'Hardware' 'Hardware' 'Drives' 'SAP' 'Hardware' 'Bitlocker' 'Password'\n",
      " 'Intranet' 'Password' 'SAP' 'Drives' 'Hardware' 'Printer' 'Software'\n",
      " 'SAP' 'Drives' 'Drives' 'Printer' 'Hardware' 'Bitlocker' 'Password'\n",
      " 'Bitlocker' 'Pheonix' 'Software' 'Hardware' 'Hardware' 'VPN' 'Drives'\n",
      " 'Drives' 'VPN' 'Bitlocker' 'Drives' 'Xtel' 'Teams' 'SalesForce' 'SAP'\n",
      " 'Software' 'Drives' 'Drives' 'SAP' 'Phishing' 'Phishing' 'Concur'\n",
      " 'Hardware' 'Drives' 'Drives' 'Drives' 'Password' 'MFA' 'Password'\n",
      " 'Phishing' 'Phishing' 'Phishing' 'Phishing' 'Phishing' 'Network'\n",
      " 'SalesForce' 'TAS' 'Drives' 'Junk' 'O365' 'SalesForce' 'Bitlocker' 'BI'\n",
      " 'Xtel' 'Password' 'Software' 'Sharepoint' 'Printer' 'Phishing' 'Password'\n",
      " 'SAP' 'Software' 'Software' 'Hardware' 'SAP' 'Password' 'Phishing'\n",
      " 'Phishing' 'Phishing' 'Phishing' 'Phishing' 'Mobile' 'Printer' 'SAP'\n",
      " 'SAP' 'SalesForce' 'Software' 'Pheonix' 'SAP' 'Hardware' 'Password'\n",
      " 'O365' 'Phishing' 'Sharepoint' 'Software' 'Bitlocker' 'SuccessFactors'\n",
      " 'Teams' 'Bitlocker' 'Drives' 'Mobile' 'Teams' 'Outlook' 'Software' 'SAP'\n",
      " 'SAP' 'Password' 'Phishing' 'Phishing' 'Phishing' 'Phishing' 'Phishing'\n",
      " 'Bitlocker' 'Password' 'Bitlocker' 'CAP' 'Outlook' 'SAP' 'Bitlocker']\n"
     ]
    }
   ],
   "source": [
    "import nltk\n",
    "import pandas as pd\n",
    "import re\n",
    "import joblib\n",
    "import numpy as np\n",
    "from sklearn.ensemble import RandomForestClassifier, GradientBoostingClassifier\n",
    "from sklearn.metrics import precision_recall_fscore_support as score\n",
    "from sklearn.feature_extraction.text import TfidfVectorizer\n",
    "from sklearn.feature_extraction.text import CountVectorizer\n",
    "import string\n",
    "from sklearn.linear_model import SGDClassifier\n",
    "\n",
    "stopwords = nltk.corpus.stopwords.words('english')\n",
    "ps = nltk.PorterStemmer()\n",
    "\n",
    "labelList = list(file['reason_code'])\n",
    "\n",
    "descList = list(file['short_description'])\n",
    "\n",
    "#Data Frame for full text documents with labels\n",
    "data = pd.DataFrame({\n",
    "    'label' : labelList,\n",
    "    'desc_text' : descList\n",
    "})\n",
    "\n",
    "def count_punct(text):\n",
    "    count = sum([1 for char in text if char in string.punctuation])\n",
    "    return round(count/(len(text) - text.count(\" \")), 3)*100\n",
    "\n",
    "data['body_len'] = data['desc_text'].apply(lambda x: len(x) - x.count(\" \"))\n",
    "data['punct%'] = data['desc_text'].apply(lambda x: count_punct(x))\n",
    "\n",
    "def clean_text(text):\n",
    "    text = \"\".join([word.lower() for word in text if word not in string.punctuation])\n",
    "    tokens = re.split('\\W+', text)\n",
    "    text = [word for word in tokens if word not in stopwords]\n",
    "    return text\n",
    "\n",
    "from sklearn.model_selection import train_test_split\n",
    "\n",
    "X_train, X_test, y_train, y_test = train_test_split(data[['desc_text']], data['label'], test_size=0.15)\n",
    "tfidf_vect = TfidfVectorizer(analyzer=clean_text)\n",
    "tfidf_vect_fit = tfidf_vect.fit(X_train['desc_text'])\n",
    "tfidf_train = tfidf_vect.transform(X_train['desc_text'])\n",
    "tfidf_test = tfidf_vect.transform(X_test['desc_text'])\n",
    "\n",
    "X_train_vect = pd.DataFrame(tfidf_train.toarray())\n",
    "X_test_vect = pd.DataFrame(tfidf_test.toarray())\n",
    "\n",
    "\n",
    "#gb = GradientBoostingClassifier(n_estimators=150, max_depth=None, learning_rate = 0.1)\n",
    "#gb_model = gb.fit(X_train_vect, y_train)\n",
    "#y_pred = gb_model.predict(X_test_vect)\n",
    "\n",
    "rf = RandomForestClassifier(n_estimators=150, max_depth=None, n_jobs=-1)\n",
    "rf_model = rf.fit(X_train_vect, y_train)\n",
    "y_pred = rf_model.predict(X_test_vect)\n",
    "\n",
    "#sgd = SGDClassifier(loss='hinge', penalty='l2',alpha=1e-3, random_state=42, max_iter=5, tol=None)\n",
    "#sgd_model = sgd.fit(X_train_vect, y_train)\n",
    "#y_pred = sgd_model.predict(X_test_vect)\n",
    "\n",
    "print('Accuracy: {}'.format(\n",
    "    (y_pred==y_test).sum()/len(y_pred), 3))\n",
    "\n",
    "\n",
    "def use_model(test_file):\n",
    "    #rf_model = joblib.load(\"models.pkl\")\n",
    "    #import incident file\n",
    "    file = pd.read_csv(test_file)   \n",
    "    \n",
    "    descList = list(file['short_description'][:400])\n",
    "\n",
    "    #Data Frame for full text documents with labels\n",
    "    data = pd.DataFrame({\n",
    "        'desc_text' : descList\n",
    "    })\n",
    "    data['body_len'] = data['desc_text'].apply(lambda x: len(x) - x.count(\" \"))\n",
    "    data['punct%'] = data['desc_text'].apply(lambda x: count_punct(x))\n",
    "    \n",
    "    x_tfidf = tfidf_vect.transform(data[\"desc_text\"])\n",
    "    X2_features = pd.DataFrame(x_tfidf.toarray())\n",
    "\n",
    "    #print(X_features)\n",
    "    y_pred = rf_model.predict(X2_features)\n",
    "    print(y_pred)\n",
    "use_model(\"test_incidents.csv\")"
   ]
  },
  {
   "cell_type": "code",
   "execution_count": null,
   "id": "759ce949",
   "metadata": {
    "scrolled": true
   },
   "outputs": [
    {
     "name": "stderr",
     "output_type": "stream",
     "text": [
      "C:\\Users\\tobi.akinyemi\\Anaconda3\\lib\\site-packages\\sklearn\\utils\\validation.py:1688: FutureWarning: Feature names only support names that are all strings. Got feature names with dtypes: ['int', 'str']. An error will be raised in 1.2.\n",
      "  warnings.warn(\n",
      "C:\\Users\\tobi.akinyemi\\Anaconda3\\lib\\site-packages\\sklearn\\utils\\validation.py:1688: FutureWarning: Feature names only support names that are all strings. Got feature names with dtypes: ['int', 'str']. An error will be raised in 1.2.\n",
      "  warnings.warn(\n"
     ]
    },
    {
     "name": "stdout",
     "output_type": "stream",
     "text": [
      "Accuracy: 0.7960526315789473\n",
      "hidden widgets\n",
      "Passed Errors\n",
      "Actioning: Label\n",
      "Running Labeller\n"
     ]
    },
    {
     "name": "stderr",
     "output_type": "stream",
     "text": [
      "C:\\Users\\tobi.akinyemi\\Anaconda3\\lib\\site-packages\\sklearn\\base.py:329: UserWarning: Trying to unpickle estimator DecisionTreeClassifier from version 0.24.1 when using version 1.0.2. This might lead to breaking code or invalid results. Use at your own risk. For more info please refer to:\n",
      "https://scikit-learn.org/stable/modules/model_persistence.html#security-maintainability-limitations\n",
      "  warnings.warn(\n",
      "C:\\Users\\tobi.akinyemi\\Anaconda3\\lib\\site-packages\\sklearn\\base.py:329: UserWarning: Trying to unpickle estimator RandomForestClassifier from version 0.24.1 when using version 1.0.2. This might lead to breaking code or invalid results. Use at your own risk. For more info please refer to:\n",
      "https://scikit-learn.org/stable/modules/model_persistence.html#security-maintainability-limitations\n",
      "  warnings.warn(\n",
      "C:\\Users\\tobi.akinyemi\\Anaconda3\\lib\\site-packages\\sklearn\\base.py:329: UserWarning: Trying to unpickle estimator CountVectorizer from version 0.24.1 when using version 1.0.2. This might lead to breaking code or invalid results. Use at your own risk. For more info please refer to:\n",
      "https://scikit-learn.org/stable/modules/model_persistence.html#security-maintainability-limitations\n",
      "  warnings.warn(\n",
      "C:\\Users\\tobi.akinyemi\\Anaconda3\\lib\\site-packages\\sklearn\\base.py:329: UserWarning: Trying to unpickle estimator TfidfTransformer from version 0.24.1 when using version 1.0.2. This might lead to breaking code or invalid results. Use at your own risk. For more info please refer to:\n",
      "https://scikit-learn.org/stable/modules/model_persistence.html#security-maintainability-limitations\n",
      "  warnings.warn(\n",
      "C:\\Users\\tobi.akinyemi\\Anaconda3\\lib\\site-packages\\sklearn\\base.py:329: UserWarning: Trying to unpickle estimator TfidfVectorizer from version 0.24.1 when using version 1.0.2. This might lead to breaking code or invalid results. Use at your own risk. For more info please refer to:\n",
      "https://scikit-learn.org/stable/modules/model_persistence.html#security-maintainability-limitations\n",
      "  warnings.warn(\n"
     ]
    }
   ],
   "source": [
    "import os\n",
    "import nltk\n",
    "import pandas as pd\n",
    "import re\n",
    "from sklearn.model_selection import train_test_split\n",
    "from sklearn.feature_extraction.text import CountVectorizer\n",
    "from sklearn.ensemble import RandomForestClassifier\n",
    "from sklearn.feature_extraction.text import TfidfVectorizer\n",
    "import string\n",
    "import pickle\n",
    "from tkinter import *\n",
    "import tkinter.ttk as ttk\n",
    "import numpy as np\n",
    "import threading\n",
    "\n",
    "stopwords = nltk.corpus.stopwords.words('english') #stopwords, set of words to be filtered out, so that time and space canbe saved.\n",
    "ps = nltk.PorterStemmer() # A stemmer used to group together similar words, so that a general understanding of a sentence can be understood.\n",
    "\n",
    "file = pd.read_csv(\"Training Data/Incidents.csv\") # read in the training file\n",
    "labelList = list(file['reason_code'])# create a list from the training file containing all of the the training labels\n",
    "descList = list(file['short_description'])# create a list from all of the training data\n",
    "\n",
    "data = pd.DataFrame({\n",
    "    'label' : labelList,\n",
    "    'body_text' : descList\n",
    "}) # initialise a pandas dataframe that contains the label list and descriptions from the training data.\n",
    "\n",
    "def count_punct(text): # function to get the percentage of punctuation used in a text.\n",
    "    count = sum([1 for char in text if char in string.punctuation]) #get sum of all punctuation used. using string.punctuation\n",
    "    return round(count/(len(text) - text.count(\" \")), 3)*100 # get a percentage.\n",
    "\n",
    "data['body_len'] = data['body_text'].apply(lambda x: len(x) - x.count(\" \")) #get the string length of each description - feature 1\n",
    "data['punct%'] = data['body_text'].apply(lambda x: count_punct(x))#get the percentage of punctuation for each description - feature 2\n",
    "\n",
    "def clean_text(text): #function to clean a description\n",
    "    text = \"\".join([word.lower() for word in text if word not in string.punctuation])# remove punctuation for processing\n",
    "    tokens = re.split('\\W+', text)#split each description into individual tokens/words\n",
    "    text = [ps.stem(word) for word in tokens if word not in stopwords]# use a stemmer to create meaning in each description and also reduce words for processing.\n",
    "    return text\n",
    "\n",
    "def use_model(filename, rf_model, ngrams, tfidf):# function for running a natural language model on a unseen model.\n",
    "    print(\"Running Labeller\") #for development - to see if the fucntion is running\n",
    "    rf_model = pickle.load(open(\"Approved Models/\"+rf_model, 'rb')) #using pickle library to load a previous model\n",
    "    ngram_vect_fit = pickle.load(open(\"Approved Models/\"+ngrams, 'rb'))#load previous n-grams vectoriser\n",
    "    tfidf_vect_fit = pickle.load(open(\"Approved Models/\"+tfidf, 'rb'))#load previous tfidf vectoriser\n",
    "    file = pd.read_csv(filename, encoding_errors='ignore')  #import a unseen dataset to label\n",
    "    \n",
    "    descList = list(file['short_description']) #create a list of descriptions from the unseen dataset.\n",
    "\n",
    "    \n",
    "    data = pd.DataFrame({\n",
    "        'desc_text' : descList\n",
    "    }) #Data Frame for full text documents with labels\n",
    "    \n",
    "    #perform all the same preprocessing as before to get the same feature extraction as in the test set.\n",
    "    data['body_len'] = data['desc_text'].apply(lambda x: len(x) - x.count(\" \"))\n",
    "    data['punct%'] = data['desc_text'].apply(lambda x: count_punct(x))\n",
    "\n",
    "    tfidf_test = tfidf_vect_fit.transform(data['desc_text']) #tfidf vectoriser, to extract features from the text - feature 3\n",
    "    X_counts_test = ngram_vect_fit.transform(data['desc_text'])#ngram vectoriser, to extract feature from the text - feature 4\n",
    "\n",
    "    X_test_vect2 = pd.concat([data[['body_len', 'punct%']].reset_index(drop=True),pd.DataFrame(X_counts_test.toarray()),\n",
    "               pd.DataFrame(tfidf_test.toarray())], axis=1) #create a matrix of all of the features for the model to process\n",
    "\n",
    "    X_test_vect2 = np.nan_to_num(X_test_vect2) \n",
    "    y_pred2 = rf_model.predict(X_test_vect2) #using the previous rf model, predict the labels for the unseen data using the matrix of it's features.\n",
    "    \n",
    "    return y_pred2 # return the labels\n",
    "\n",
    "def test_model(descriptions, rf_model, ngrams, tfidf): #function for running the model but only on user input.\n",
    "    #import incident file\n",
    "    print(\"Running Labeller\")\n",
    "    rf_model = pickle.load(open(\"Approved Models/\"+rf_model, 'rb'))\n",
    "    ngram_vect_fit = pickle.load(open(\"Approved Models/\"+ngrams, 'rb'))\n",
    "    tfidf_vect_fit = pickle.load(open(\"Approved Models/\"+tfidf, 'rb'))\n",
    "    #file = pd.read_csv(filename)   \n",
    "    \n",
    "    descList = [descriptions]\n",
    "\n",
    "    #Data Frame for full text documents with labels\n",
    "    data = pd.DataFrame({\n",
    "        'desc_text' : descList\n",
    "    })\n",
    "    \n",
    "    data['body_len'] = data['desc_text'].apply(lambda x: len(x) - x.count(\" \"))\n",
    "    data['punct%'] = data['desc_text'].apply(lambda x: count_punct(x))\n",
    "\n",
    "    tfidf_test = tfidf_vect_fit.transform(data['desc_text'])\n",
    "    X_counts_test = ngram_vect_fit.transform(data['desc_text'])\n",
    "\n",
    "    X_test_vect2 = pd.concat([data[['body_len', 'punct%']].reset_index(drop=True),pd.DataFrame(X_counts_test.toarray()),\n",
    "               pd.DataFrame(tfidf_test.toarray())], axis=1)\n",
    "\n",
    "    X_test_vect2 = np.nan_to_num(X_test_vect2)\n",
    "    y_pred2 = rf_model.predict(X_test_vect2)\n",
    "    return y_pred2\n",
    "\n",
    "def update_gui_test_return(description, test_models, errorLbls, textbox):\n",
    "    if Error_handler([test_models],errorLbls): # checks if any errors have been found\n",
    "        gui_test_val = test_model(description,test_models.get()+\".pkl\",test_models.get()+\".pkl_ngrams.pkl\",test_models.get()+\".pkl_tfidf.pkl\") #run test user input function\n",
    "        textbox.config(state=NORMAL) #allow textbox to be editable\n",
    "        textbox.delete(1.0, \"end\")# clear the textbox\n",
    "        textbox.insert(\"end\", gui_test_val[0])#set the label for the textbox\n",
    "        textbox.config(state=DISABLED)#do not allow textbox to be editable\n",
    "    else:\n",
    "        return\n",
    "\n",
    "def label_reason_codes(filename, model, errorLbls):\n",
    "    if Error_handler([filename, model],errorLbls): #checks if any errors have been found in user input\n",
    "        print(\"Actioning: Label\")\n",
    "        filename = filename.get()+\".csv\" # get the file to import in order to label the reason codes\n",
    "\n",
    "        model = model.get()+\".pkl\" #get the file name for the model to use\n",
    "\n",
    "        ngrams = model +\"_ngrams.pkl\"#get the file name of the ngram vectoriser to use for the model above\n",
    "\n",
    "        tfidf = model +\"_tfidf.pkl\"#get the filename of the tfidf vectoriser to use for the model above\n",
    "\n",
    "        reason_codes = use_model(\"Reports to Label/\"+filename, model, ngrams, tfidf)#return the label list \n",
    "\n",
    "        file = pd.read_csv(\"Reports to Label/\"+filename, encoding_errors='ignore')# open the file so you can edit it to store it again\n",
    "\n",
    "        file.columns =[\"u_site_id\",\"number\",\"u_first_name\",\"u_last_name\",\"short_description\",\"opened_at\",\"active\",\n",
    "                       \"additional_assignee_list\",\"approval\",\"approval_set\",\"approval_history\",\"assignment_group.parent\",\n",
    "                       \"business_duration\",\"location\",\"severity\"]\n",
    "                      #get the columns\n",
    "        file.insert(5,\"reason codes\", reason_codes)# add the column reason codes\n",
    "\n",
    "        file.to_csv(\"Labelled Reports/\"+filename)#add reason codes into the new column and save the file in a new location.\n",
    "        #print(reason_codes)\n",
    "    else:\n",
    "        return\n",
    "    \n",
    "def train_rf(n_est, depth, accuracy_thres):\n",
    "    rf = RandomForestClassifier(n_estimators=n_est, max_depth=depth, n_jobs=-1)# random forest classifier - initalise model\n",
    "    rf_model = rf.fit(X_train_vect, y_train)# fit the features matrix and labels together\n",
    "    y_pred = rf_model.predict(X_test_vect)#predict a label using testing data\n",
    "    accuracy = (y_pred == y_test).sum()/len(y_pred)# show the accuracy of the model\n",
    "    if accuracy >=(accuracy_thres/100) and accuracy < 0.85: # save the model if the prediction within the right range\n",
    "        filename = str(round(accuracy,3))+\"_\"+str(depth)+\"_\"+str(n_est)+'.pkl'\n",
    "        filename2 = filename+'_ngrams.pkl'\n",
    "        filename3 = filename+'_tfidf.pkl'\n",
    "        print(filename, filename2, filename3)\n",
    "        pickle.dump(rf_model, open(\"Testing Models\\Latest Models/\"+filename, 'wb')) # using pickle library to save the models\n",
    "        pickle.dump(ngram_vect_fit, open(\"Testing Models\\Latest Models/\"+filename2, 'wb'))\n",
    "        pickle.dump(tfidf_vect_fit, open(\"Testing Models\\Latest Models/\"+filename3, 'wb'))\n",
    "    \n",
    "def best_model(epochs, accuracy_thres, progress_bar, label):\n",
    "    for i in range(epochs):\n",
    "        print(\"Iteration: \",i)\n",
    "        for n_est in [50,100,150,200,250,300]: # change the random forest n estimators parameter\n",
    "            for depth in [10,20,30,40,50,60,70,80,None]: # change the max depth of the random forest\n",
    "                train_rf(n_est, depth, accuracy_thres)\n",
    "        root.update_idletasks()\n",
    "        progress_bar['value'] +=1 \n",
    "        label[\"text\"] = \"Completion: \"+ str((progress_bar['value']/epochs) *100)+\"%\" #display a progress bar for the user.\n",
    "    hide_widget(progress_bar)# when done delete the progress bar.\n",
    "    \n",
    "                \n",
    "def update_source(source, error_lbl, accuracy_thres, epochs):\n",
    "    #add error handler\n",
    "    if Error_handler([source],error_lbl):\n",
    "    #add new source to main source\n",
    "        source = source.get()\n",
    "        main_source = pd.read_csv(\"Incidents.csv\", encoding_errors='ignore')\n",
    "        new_source = pd.read_csv(\"Training Data/\"+source+\".csv\",encoding_errors='ignore')\n",
    "        main_source.append(new_source)\n",
    "        main_source = main_source.drop_duplicates().set_index(\"u_site_id\")\n",
    "        main_source.to_csv(\"Training Data/Incidents.csv\",encoding_errors='ignore')\n",
    "    else:\n",
    "        return\n",
    "    \n",
    "    update_progress = ttk.Progressbar(frame, orient=HORIZONTAL, length=200, maximum = epochs, mode='determinate')\n",
    "    update_progress.grid(row=7,column=0,pady=10,sticky=\"e\")\n",
    "    current_widgets.append(update_progress)\n",
    "    \n",
    "    progress_lbl =ttk.Label(frame, text=\"Completion: \"+ str(update_progress['value'])+\"%\", font=(font_type,font_size_norm-5))\n",
    "    progress_lbl.grid(row=8,column=0, pady=10, columnspan=3,sticky=\"n\")\n",
    "    current_widgets.append(progress_lbl)\n",
    "    \n",
    "    best_model(epochs, accuracy_thres, update_progress, progress_lbl)\n",
    "    \n",
    "\n",
    "X_train, X_test, y_train, y_test = train_test_split(data[['body_text', 'body_len', 'punct%']], data['label'], test_size=0.2)\n",
    "\n",
    "tfidf_vect = TfidfVectorizer(analyzer=clean_text)\n",
    "tfidf_vect_fit = tfidf_vect.fit(X_train['body_text'])\n",
    "\n",
    "ngram_vect = CountVectorizer(ngram_range=(1,2))\n",
    "ngram_vect_fit = ngram_vect.fit(X_train['body_text'])\n",
    "\n",
    "X_counts_train = ngram_vect_fit.transform(X_train['body_text'])\n",
    "X_counts_test = ngram_vect_fit.transform(X_test['body_text'])\n",
    "\n",
    "tfidf_train = tfidf_vect_fit.transform(X_train['body_text'])\n",
    "tfidf_test = tfidf_vect_fit.transform(X_test['body_text'])\n",
    "\n",
    "\n",
    "X_train_vect = pd.concat([X_train[['body_len', 'punct%']].reset_index(drop=True), pd.DataFrame(X_counts_train.toarray()),\n",
    "           pd.DataFrame(tfidf_train.toarray())], axis=1)\n",
    "X_test_vect = pd.concat([X_test[['body_len', 'punct%']].reset_index(drop=True), pd.DataFrame(X_counts_test.toarray()),\n",
    "           pd.DataFrame(tfidf_test.toarray())], axis=1)\n",
    "\n",
    "rf = RandomForestClassifier(n_estimators=150, max_depth=None, n_jobs=-1)\n",
    "\n",
    "rf_model = rf.fit(X_train_vect, y_train)\n",
    "y_pred = rf_model.predict(X_test_vect)\n",
    "\n",
    "print('Accuracy: {}'.format(\n",
    "    (y_pred==y_test).sum()/len(y_pred)))\n",
    "\n",
    "#label_reason_codes(\"Feb.csv\",\"0.803_80_250.pkl\",\"0.803_80_250.pkl_ngrams.pkl\",\"0.803_80_250.pkl_tfidf.pkl\")\n",
    "#best_model()\n",
    "\n",
    "#GUI\n",
    "\n",
    "#Configurations\n",
    "font_type = 'Helvetica bold'\n",
    "font_size_hdr = 35\n",
    "font_size_norm = 15\n",
    "\n",
    "root = Tk()\n",
    "root.title(\"Reason Code Labeller\")\n",
    "\n",
    "frame = ttk.Frame(root)\n",
    "frame.grid(row=0, column=0, sticky=\"nsew\")\n",
    "\n",
    "root.columnconfigure([0,1], minsize=133)\n",
    "root.rowconfigure([0,6], minsize=200)\n",
    "root.maxsize(height=500, width=500)\n",
    "\n",
    "current_widgets=[]\n",
    "menubar = Menu(frame)\n",
    "filemenu = Menu(menubar, tearoff=0)\n",
    "filemenu.add_command(label=\"Home\", command=lambda : run_home_screen())\n",
    "filemenu.add_command(label=\"Model Tester\", command=lambda : run_model_tester())\n",
    "filemenu.add_command(label=\"Update Models\", command=lambda : run_model_updater())\n",
    "filemenu.add_separator()\n",
    "filemenu.add_command(label=\"Exit\", command=root.destroy)\n",
    "menubar.add_cascade(label=\"File\", menu=filemenu)\n",
    "\n",
    "helpmenu = Menu(menubar, tearoff=0)\n",
    "helpmenu.add_command(label=\"About...\", command=lambda:help_screen())\n",
    "menubar.add_cascade(label=\"Help\", menu=helpmenu)\n",
    "\n",
    "root.config(menu=menubar)\n",
    "\n",
    "\n",
    "def hide_widget(widget):\n",
    "    widget.grid_remove()\n",
    "    \n",
    "def clear_widgets():\n",
    "    for i in current_widgets:\n",
    "        hide_widget(i)\n",
    "    print(\"hidden widgets\")\n",
    "        \n",
    "#dropwdown list for number of models\n",
    "def get_models():\n",
    "    models=set()\n",
    "    for file in os.listdir(\"Approved Models\"):\n",
    "        if file.endswith(\".pkl\"):\n",
    "            models.add(file[:file.index(\".p\")])\n",
    "    return list(models)\n",
    "\n",
    "\n",
    "#dropwdown list for spreadsheet\n",
    "def get_spreadsheet(sheetType):\n",
    "    files=set()\n",
    "    if sheetType == \"Reports to Label\":\n",
    "        dir_files = os.listdir(\"Reports to Label\")\n",
    "    elif sheetType == \"Training Data\":\n",
    "        dir_files = os.listdir(\"Training Data\")\n",
    "    else:\n",
    "        return [\"None Available\"]\n",
    "    for file in dir_files:\n",
    "        if file.endswith(\".csv\"):\n",
    "            files.add(file[:file.index(\".c\")])\n",
    "    if len(list(files)) <1:\n",
    "        Error = \"Please add sheets to \"+ sheetType+\" in order to continue!\"\n",
    "        return [\"None Available\"]\n",
    "    else:\n",
    "        return list(files)\n",
    "\n",
    "\n",
    "def run_home_screen():\n",
    "    clear_widgets()\n",
    "    \n",
    "    MainTitle = ttk.Label(frame, text=\"Incident Labeller\", font=(font_type,font_size_hdr))\n",
    "    MainTitle.grid(row=0,column=0,sticky=\"n\")\n",
    "    \n",
    "    linespace =ttk.Label(frame, text=\" \", wraplength=500, font=(font_type,font_size_norm+2))\n",
    "    linespace.grid(row=1,column=0, pady=30, sticky=\"w\")\n",
    "    current_widgets.append(linespace)\n",
    "    \n",
    "    SltModelText =ttk.Label(frame, text=\"Select Model\", font=(font_type,font_size_norm))\n",
    "    SltModelText.grid(row=2,column=0, pady=10,sticky=\"w\")\n",
    "    current_widgets.append(SltModelText)\n",
    "\n",
    "    SltSpreadSheetText = ttk.Label(frame, text=\"Select Spreadsheet\", font=(font_type,font_size_norm))\n",
    "    SltSpreadSheetText.grid(row=4,column=0,pady=10,sticky=\"w\")\n",
    "    current_widgets.append(SltSpreadSheetText)\n",
    "    \n",
    "    var_drop = StringVar(frame)\n",
    "    models = get_models()\n",
    "    var_drop.set(models[0])\n",
    "\n",
    "    model_drop = ttk.Combobox(frame, textvariable = var_drop)\n",
    "    model_drop['values'] = models\n",
    "    model_drop.grid(row=2,column=1,pady=10,sticky=\"w\")\n",
    "    current_widgets.append(model_drop)\n",
    "    \n",
    "    model_drop_Err  =ttk.Label(frame, text=\"\", font=(font_type,font_size_norm-5))\n",
    "    model_drop_Err.grid(row=3,column=1,pady=10,sticky=\"w\")\n",
    "    current_widgets.append(model_drop_Err )\n",
    "    \n",
    "    var_drop2 = StringVar(frame)\n",
    "    sheets = get_spreadsheet(\"Reports to Label\")\n",
    "    var_drop2.set(sheets[0])\n",
    "\n",
    "    sheet_drop = ttk.Combobox(frame, textvariable = var_drop2)\n",
    "    sheet_drop['values'] = sheets\n",
    "    sheet_drop.grid(row=4,column=1,pady=10,sticky=\"w\")\n",
    "    current_widgets.append(sheet_drop)\n",
    "    \n",
    "    sheet_drop_Err  =ttk.Label(frame, text=\"\", font=(font_type,font_size_norm-5))\n",
    "    sheet_drop_Err.grid(row=5,column=1,pady=10,sticky=\"w\")\n",
    "    current_widgets.append(sheet_drop_Err)\n",
    "    \n",
    "    RunButton = ttk.Button(frame, text=\"RUN\", command=lambda : threading.Thread(target=label_reason_codes,args=(sheet_drop,model_drop,[sheet_drop_Err,model_drop_Err])).start(), width=20)\n",
    "    RunButton.grid(row=7,column=1,pady=10,sticky=\"w\")\n",
    "    current_widgets.append(RunButton)\n",
    "    \n",
    "def run_model_tester():\n",
    "    #clear the screen add new buttons\n",
    "    clear_widgets()\n",
    "    \n",
    "    #new screen for testing accuracy and creating new models\n",
    "    linespace =ttk.Label(frame, text=\" \", wraplength=500, font=(font_type,font_size_norm+2))\n",
    "    linespace.grid(row=1,column=0, pady=30, sticky=\"w\")\n",
    "    current_widgets.append(linespace)\n",
    "    \n",
    "    SelectTestModel =ttk.Label(frame, text=\"Select Model\", font=(font_type,font_size_norm))\n",
    "    SelectTestModel.grid(row=2,column=0,sticky=\"w\")\n",
    "    current_widgets.append(SelectTestModel)\n",
    "    \n",
    "    TestDescription = ttk.Label(frame, text=\"Test Description\", font=(font_type,font_size_norm))\n",
    "    TestDescription.grid(row=4,column=0,sticky=\"w\")\n",
    "    current_widgets.append(TestDescription)\n",
    "    \n",
    "    TestReturn = ttk.Label(frame, text=\"Reason Code\", font=(font_type,font_size_norm))\n",
    "    TestReturn.grid(row=6,column=0,sticky=\"w\")\n",
    "    current_widgets.append(TestReturn)\n",
    "    \n",
    "    reason_textbox = Text(frame, \"\", height=1,width=17)\n",
    "    reason_textbox.grid(row=6,column=1,sticky=\"w\")\n",
    "    reason_textbox.config(state=DISABLED)\n",
    "    current_widgets.append(reason_textbox)\n",
    "    \n",
    "    var_drop = StringVar(frame)\n",
    "    test_models = get_models()\n",
    "    var_drop.set(test_models[0])\n",
    "\n",
    "    test_model_drop = ttk.Combobox(frame, textvariable = var_drop)\n",
    "    test_model_drop['values'] = test_models\n",
    "    test_model_drop.grid(row=2,column=1,sticky=\"w\")\n",
    "    current_widgets.append(test_model_drop)\n",
    "    \n",
    "    test_model_Err  =ttk.Label(frame, text=\"\", font=(font_type,font_size_norm-5))\n",
    "    test_model_Err.grid(row=3,column=1,sticky=\"w\")\n",
    "    current_widgets.append(test_model_Err )\n",
    "    \n",
    "    test_textbox = Text(frame,\"\", height=8,width=30)\n",
    "    test_textbox.grid(row=5,column=0,sticky=\"w\")\n",
    "    current_widgets.append(test_textbox)\n",
    "    \n",
    "    Run_testButton = ttk.Button(frame, text=\"TEST\", command=lambda : threading.Thread(target=update_gui_test_return, args=(test_textbox.get(\"1.0\", \"end\"), test_model_drop, [test_model_Err], reason_textbox)).start(), width=20)\n",
    "    Run_testButton.grid(row=5,column=1,sticky=\"w\")\n",
    "    current_widgets.append(Run_testButton)\n",
    "\n",
    "def run_model_updater():\n",
    "    clear_widgets()\n",
    "    linespace =ttk.Label(frame, text=\" \", wraplength=500, font=(font_type,font_size_norm+2))\n",
    "    linespace.grid(row=1,column=0, pady=30, sticky=\"w\")\n",
    "    current_widgets.append(linespace)\n",
    "    \n",
    "    NewDataLbl =ttk.Label(frame, text=\"Select data to add to main Source: \", font=(font_type,font_size_norm))\n",
    "    NewDataLbl.grid(row=2,column=0,pady=0,sticky=\"w\")\n",
    "    current_widgets.append(NewDataLbl)\n",
    "    \n",
    "    NewDataErr =ttk.Label(frame, text=\"\", font=(font_type,font_size_norm-5))\n",
    "    NewDataErr.grid(row=3,column=1,pady=10,sticky=\"w\")\n",
    "    current_widgets.append(NewDataErr)\n",
    "    \n",
    "    var_drop = StringVar(frame)\n",
    "    sheets = get_spreadsheet(\"Training Data\")\n",
    "    var_drop.set(sheets[0])\n",
    "    \n",
    "    sheet_drop = ttk.Combobox(frame, textvariable = var_drop)\n",
    "    sheet_drop['values'] = sheets\n",
    "    sheet_drop.grid(row=2,column=1,pady=0,sticky=\"w\")\n",
    "    current_widgets.append(sheet_drop)\n",
    "    \n",
    "    AccuracyLbl = ttk.Label(frame, text=\"Select accuracy threshold: \", font=(font_type,font_size_norm))\n",
    "    AccuracyLbl.grid(row=4,column=0,pady=10,sticky=\"w\")\n",
    "    current_widgets.append(AccuracyLbl)\n",
    "    \n",
    "    Accuracy_range = Scale(frame,from_=60,to=100,orient=HORIZONTAL,showvalue=True)\n",
    "    Accuracy_range.set(70)\n",
    "    Accuracy_range.grid(row=4,column=1,pady=10,sticky=\"w\")\n",
    "    current_widgets.append(Accuracy_range)\n",
    "    \n",
    "    NoOfTestsLbl = ttk.Label(frame, text=\"Number of Tests: \", font=(font_type,font_size_norm))\n",
    "    NoOfTestsLbl.grid(row=5,column=0,pady=10,sticky=\"w\")\n",
    "    current_widgets.append(NoOfTestsLbl)\n",
    "    \n",
    "    Tests_range = Scale(frame,from_=0,to=1000,resolution=50,orient=HORIZONTAL,showvalue=True)\n",
    "    Tests_range.set(50)\n",
    "    Tests_range.grid(row=5,column=1,pady=10,sticky=\"w\")\n",
    "    current_widgets.append(Tests_range)\n",
    "    \n",
    "    \n",
    "    update_modelBtn = ttk.Button(frame, text=\"UPDATE\", command=lambda :threading.Thread(target= update_source,args=(sheet_drop,[NewDataErr], Accuracy_range.get(),Tests_range.get())).start(), width=20)\n",
    "    update_modelBtn.grid(row=6,column=1,pady=10,sticky=\"w\")\n",
    "    current_widgets.append(update_modelBtn)\n",
    "    \n",
    "def help_screen():\n",
    "    clear_widgets()\n",
    "    \n",
    "    text1= \"To run the incidents reason code labeller, first select the model you would like to use. The first value shows the accuracy of the model. Then select the incident excel sheet that you would like to label. Then hit run.\"\n",
    "    \n",
    "    text2=\"To run the incidents model tester, first select the model that you would like to test. Then enter a issue description in the available input box, try to make it sound like you would if you were actaully raising an issue on the helpdesk. Then hit test.\"\n",
    "    \n",
    "    text3=\"To run the model updater, first select the new source of data that you would like to add to the training data. Then select the minimum accuracy you would like the models to be. Then select the number of times you would like to train the data. Finally hit update.\"\n",
    "    #help for running of the model.\n",
    "    linespace =ttk.Label(frame, text=\" \", wraplength=500, font=(font_type,font_size_norm+2))\n",
    "    linespace.grid(row=1,column=0,sticky=\"w\")\n",
    "    current_widgets.append(linespace)\n",
    "    \n",
    "    runmodelhelp =ttk.Label(frame, text=\"Run Model\", wraplength=500, font=(font_type,font_size_norm+2))\n",
    "    runmodelhelp.grid(row=2,column=0,sticky=\"w\")\n",
    "    current_widgets.append(runmodelhelp)\n",
    "    \n",
    "    runmodeldetails =ttk.Label(frame, text=text1, wraplength=500, font=(font_type,font_size_norm-2))\n",
    "    runmodeldetails.grid(row=3,column=0,sticky=\"w\")\n",
    "    current_widgets.append(runmodeldetails)\n",
    "    \n",
    "    #help for running of the model tester.\n",
    "    modeltesthelp =ttk.Label(frame, text=\"Test Models\", wraplength=500, font=(font_type,font_size_norm+2))\n",
    "    modeltesthelp.grid(row=4,column=0,sticky=\"w\")\n",
    "    current_widgets.append(modeltesthelp)\n",
    "    \n",
    "    modeltestdetails =ttk.Label(frame, text=text2, wraplength=500, font=(font_type,font_size_norm-2))\n",
    "    modeltestdetails.grid(row=5,column=0,sticky=\"w\")\n",
    "    current_widgets.append(modeltestdetails)\n",
    "    \n",
    "    #help for running of the model updater.\n",
    "    updatemodelhelp =ttk.Label(frame,text=\"Update Model\", wraplength=500, font=(font_type,font_size_norm+2))\n",
    "    updatemodelhelp.grid(row=6,column=0,sticky=\"w\")\n",
    "    current_widgets.append(updatemodelhelp)\n",
    "    \n",
    "    updatemodeldetails =ttk.Label(frame,text=text3, wraplength=500, font=(font_type,font_size_norm-2))\n",
    "    updatemodeldetails.grid(row=7,column=0,sticky=\"w\")\n",
    "    current_widgets.append(updatemodeldetails)\n",
    "    \n",
    "    \n",
    "#create an error handler function + general handler\n",
    "def Error_handler(check_inputs, Err_labels):\n",
    "    for i in range(len(check_inputs)):\n",
    "        if check_inputs[i].get() == \"\" or check_inputs[i].get() == \"None Available\" :\n",
    "            Err_labels[i][\"foreground\"] = \"red\"\n",
    "            Err_labels[i][\"text\"]=\"Error: Please fill in Input\"\n",
    "        else:\n",
    "            Err_labels[i][\"text\"]=\"\"\n",
    "    if all(i.get() != \"\" for i in check_inputs):\n",
    "        print(\"Passed Errors\")\n",
    "        return True\n",
    "    print(\"Encountered Error\")\n",
    "    return False\n",
    "#update_source(\"March\",[], 70,2)\n",
    "run_home_screen()\n",
    "\n",
    "root.mainloop()"
   ]
  },
  {
   "cell_type": "code",
   "execution_count": 6,
   "id": "472055b1",
   "metadata": {},
   "outputs": [
    {
     "name": "stderr",
     "output_type": "stream",
     "text": [
      "EEEEEEEE\n",
      "======================================================================\n",
      "ERROR: test_clean_text (__main__.IncidentsTests)\n",
      "----------------------------------------------------------------------\n",
      "Traceback (most recent call last):\n",
      "  File \"C:\\Users\\tobi.akinyemi\\AppData\\Local\\Temp\\ipykernel_22416\\1491580529.py\", line 27, in test_clean_text\n",
      "    self.assertEqual(clean_text(\"The laptop is broken\"), ['laptop','broken'], \"['laptop','broken']\")\n",
      "NameError: name 'clean_text' is not defined\n",
      "\n",
      "======================================================================\n",
      "ERROR: test_count_punct (__main__.IncidentsTests)\n",
      "----------------------------------------------------------------------\n",
      "Traceback (most recent call last):\n",
      "  File \"C:\\Users\\tobi.akinyemi\\AppData\\Local\\Temp\\ipykernel_22416\\1491580529.py\", line 24, in test_count_punct\n",
      "    self.assertEqual(int(count_punct(\"hi.\")), 33, \"Should be 33\")\n",
      "NameError: name 'count_punct' is not defined\n",
      "\n",
      "======================================================================\n",
      "ERROR: test_error_handler_fail (__main__.IncidentsTests)\n",
      "----------------------------------------------------------------------\n",
      "Traceback (most recent call last):\n",
      "  File \"C:\\Users\\tobi.akinyemi\\AppData\\Local\\Temp\\ipykernel_22416\\1491580529.py\", line 55, in test_error_handler_fail\n",
      "    self.assertEqual(Error_handler([sheet_drop], Err_labels), False, \"Should be False\")\n",
      "NameError: name 'Error_handler' is not defined\n",
      "\n",
      "======================================================================\n",
      "ERROR: test_error_handler_pass (__main__.IncidentsTests)\n",
      "----------------------------------------------------------------------\n",
      "Traceback (most recent call last):\n",
      "  File \"C:\\Users\\tobi.akinyemi\\AppData\\Local\\Temp\\ipykernel_22416\\1491580529.py\", line 48, in test_error_handler_pass\n",
      "    self.assertEqual(Error_handler([sheet_drop], Err_labels), True, \"Should be True\")\n",
      "NameError: name 'Error_handler' is not defined\n",
      "\n",
      "======================================================================\n",
      "ERROR: test_get_models (__main__.IncidentsTests)\n",
      "----------------------------------------------------------------------\n",
      "Traceback (most recent call last):\n",
      "  File \"C:\\Users\\tobi.akinyemi\\AppData\\Local\\Temp\\ipykernel_22416\\1491580529.py\", line 30, in test_get_models\n",
      "    self.assertEqual(get_models().sort(), currentModels.sort())\n",
      "NameError: name 'get_models' is not defined\n",
      "\n",
      "======================================================================\n",
      "ERROR: test_get_spreadsheets (__main__.IncidentsTests)\n",
      "----------------------------------------------------------------------\n",
      "Traceback (most recent call last):\n",
      "  File \"C:\\Users\\tobi.akinyemi\\AppData\\Local\\Temp\\ipykernel_22416\\1491580529.py\", line 34, in test_get_spreadsheets\n",
      "    self.assertEqual(get_spreadsheet(\"Reports to Label\").sort(), currentSpreadSheets.sort())\n",
      "NameError: name 'get_spreadsheet' is not defined\n",
      "\n",
      "======================================================================\n",
      "ERROR: test_get_spreadsheets2 (__main__.IncidentsTests)\n",
      "----------------------------------------------------------------------\n",
      "Traceback (most recent call last):\n",
      "  File \"C:\\Users\\tobi.akinyemi\\AppData\\Local\\Temp\\ipykernel_22416\\1491580529.py\", line 37, in test_get_spreadsheets2\n",
      "    self.assertEqual(get_spreadsheet(\"Labelled Reports\").sort(), currentSpreadSheets2.sort())\n",
      "NameError: name 'get_spreadsheet' is not defined\n",
      "\n",
      "======================================================================\n",
      "ERROR: test_model (__main__.IncidentsTests)\n",
      "----------------------------------------------------------------------\n",
      "Traceback (most recent call last):\n",
      "  File \"C:\\Users\\tobi.akinyemi\\AppData\\Local\\Temp\\ipykernel_22416\\1491580529.py\", line 40, in test_model\n",
      "    self.assertEqual(test_model(\"My laptop screen is damaged.\", \"0.803_80_250.pkl\",\"0.803_80_250.pkl_ngrams.pkl\",\"0.803_80_250.pkl_tfidf.pkl\"), [\"Hardware\"], \"Should be Hardware\")\n",
      "NameError: name 'test_model' is not defined\n",
      "\n",
      "----------------------------------------------------------------------\n",
      "Ran 8 tests in 0.010s\n",
      "\n",
      "FAILED (errors=8)\n"
     ]
    }
   ],
   "source": [
    "#Unit Testing Incident_Identifier\n",
    "import unittest\n",
    "\n",
    "from tkinter import *\n",
    "import tkinter.ttk as ttk\n",
    "\n",
    "currentModels = [\"0.82_30_50\",\"0.803_80_250\",\"0.868_70_100\"]\n",
    "    \n",
    "currentSpreadSheets = [\"Feb\",\"incident(15)\",\"March\"]\n",
    "    \n",
    "currentSpreadSheets2 = [\"incident(15)\",\"March\"]\n",
    "\n",
    "root = Tk()\n",
    "frame = ttk.Frame(root)\n",
    "runmodeldetails =ttk.Label(frame, text=\"text1\", wraplength=500)\n",
    "Err_labels = [runmodeldetails]\n",
    "\n",
    "var_drop = StringVar(frame)\n",
    "sheets = [\"1\",\"2\",\"3\"]\n",
    "\n",
    "class IncidentsTests(unittest.TestCase):\n",
    "    \n",
    "    def test_count_punct(self):\n",
    "        self.assertEqual(int(count_punct(\"hi.\")), 33, \"Should be 33\")\n",
    "    \n",
    "    def test_clean_text(self):\n",
    "        self.assertEqual(clean_text(\"The laptop is broken\"), ['laptop','broken'], \"['laptop','broken']\")\n",
    "        \n",
    "    def test_get_models(self):\n",
    "        self.assertEqual(get_models().sort(), currentModels.sort())\n",
    "        \n",
    "    \n",
    "    def test_get_spreadsheets(self):\n",
    "        self.assertEqual(get_spreadsheet(\"Reports to Label\").sort(), currentSpreadSheets.sort())\n",
    "        \n",
    "    def test_get_spreadsheets2(self):\n",
    "        self.assertEqual(get_spreadsheet(\"Labelled Reports\").sort(), currentSpreadSheets2.sort())\n",
    "        \n",
    "    def test_model(self):\n",
    "        self.assertEqual(test_model(\"My laptop screen is damaged.\", \"0.803_80_250.pkl\",\"0.803_80_250.pkl_ngrams.pkl\",\"0.803_80_250.pkl_tfidf.pkl\"), [\"Hardware\"], \"Should be Hardware\")\n",
    "        self.assertEqual(test_model(\"I can't connect to the internet.\", \"0.803_80_250.pkl\",\"0.803_80_250.pkl_ngrams.pkl\",\"0.803_80_250.pkl_tfidf.pkl\"), [\"Network\"], \"Should be Network\")\n",
    "    \n",
    "    def test_error_handler_pass(self):\n",
    "        var_drop.set(sheets[0])\n",
    "\n",
    "        sheet_drop = ttk.Combobox(frame, textvariable = var_drop)\n",
    "        sheet_drop['values'] = sheets\n",
    "        self.assertEqual(Error_handler([sheet_drop], Err_labels), True, \"Should be True\")\n",
    "    \n",
    "    def test_error_handler_fail(self):\n",
    "        var_drop.set(\"\")\n",
    "\n",
    "        sheet_drop = ttk.Combobox(frame, textvariable = var_drop)\n",
    "        sheet_drop['values'] = sheets\n",
    "        self.assertEqual(Error_handler([sheet_drop], Err_labels), False, \"Should be False\")\n",
    "        \n",
    "if __name__ == '__main__':\n",
    "    unittest.main(argv=['first-arg-is-ignored'], exit=False)\n",
    "    \n",
    "#test 1-"
   ]
  },
  {
   "cell_type": "code",
   "execution_count": null,
   "id": "791e083c",
   "metadata": {},
   "outputs": [],
   "source": []
  }
 ],
 "metadata": {
  "kernelspec": {
   "display_name": "Python 3 (ipykernel)",
   "language": "python",
   "name": "python3"
  },
  "language_info": {
   "codemirror_mode": {
    "name": "ipython",
    "version": 3
   },
   "file_extension": ".py",
   "mimetype": "text/x-python",
   "name": "python",
   "nbconvert_exporter": "python",
   "pygments_lexer": "ipython3",
   "version": "3.9.12"
  }
 },
 "nbformat": 4,
 "nbformat_minor": 5
}
